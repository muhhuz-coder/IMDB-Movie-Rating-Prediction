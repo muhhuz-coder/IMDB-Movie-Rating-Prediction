{
 "cells": [
  {
   "cell_type": "markdown",
   "id": "c1410dab-686c-4af4-aac6-264958870a4a",
   "metadata": {},
   "source": [
    "**Movie Rating Prediction AI Project**"
   ]
  },
  {
   "cell_type": "markdown",
   "id": "8432448f-7a03-436f-a2ed-5f3419b16390",
   "metadata": {},
   "source": [
    "**21k-3419 Muhammad Huzaifa**,\n",
    "**21k-3455 Alishba Jaffery**,\n",
    "**21k-4519 Fatima Ashraf**"
   ]
  },
  {
   "cell_type": "markdown",
   "id": "f32bcc9a-8cba-46f0-92c6-4f512b4269d4",
   "metadata": {},
   "source": [
    "**Load the Dataset**"
   ]
  },
  {
   "cell_type": "code",
   "execution_count": 12,
   "id": "5ebf1ed2-4514-4a57-bc6b-407087b30542",
   "metadata": {},
   "outputs": [],
   "source": [
    "from warnings import filterwarnings\n",
    "filterwarnings('ignore')"
   ]
  },
  {
   "cell_type": "code",
   "execution_count": 13,
   "id": "a07508cf-c0bf-4e53-836c-b829fad0692b",
   "metadata": {},
   "outputs": [
    {
     "data": {
      "text/html": [
       "<div>\n",
       "<style scoped>\n",
       "    .dataframe tbody tr th:only-of-type {\n",
       "        vertical-align: middle;\n",
       "    }\n",
       "\n",
       "    .dataframe tbody tr th {\n",
       "        vertical-align: top;\n",
       "    }\n",
       "\n",
       "    .dataframe thead th {\n",
       "        text-align: right;\n",
       "    }\n",
       "</style>\n",
       "<table border=\"1\" class=\"dataframe\">\n",
       "  <thead>\n",
       "    <tr style=\"text-align: right;\">\n",
       "      <th></th>\n",
       "      <th>Name</th>\n",
       "      <th>Year</th>\n",
       "      <th>Duration</th>\n",
       "      <th>Genre</th>\n",
       "      <th>Rating</th>\n",
       "      <th>Votes</th>\n",
       "      <th>Director</th>\n",
       "      <th>Actor 1</th>\n",
       "      <th>Actor 2</th>\n",
       "      <th>Actor 3</th>\n",
       "    </tr>\n",
       "  </thead>\n",
       "  <tbody>\n",
       "    <tr>\n",
       "      <th>0</th>\n",
       "      <td>NaN</td>\n",
       "      <td>NaN</td>\n",
       "      <td>NaN</td>\n",
       "      <td>Drama</td>\n",
       "      <td>NaN</td>\n",
       "      <td>NaN</td>\n",
       "      <td>J.S. Randhawa</td>\n",
       "      <td>Manmauji</td>\n",
       "      <td>Birbal</td>\n",
       "      <td>Rajendra Bhatia</td>\n",
       "    </tr>\n",
       "    <tr>\n",
       "      <th>1</th>\n",
       "      <td>#Gadhvi (He thought he was Gandhi)</td>\n",
       "      <td>(2019)</td>\n",
       "      <td>109 min</td>\n",
       "      <td>Drama</td>\n",
       "      <td>7.0</td>\n",
       "      <td>8</td>\n",
       "      <td>Gaurav Bakshi</td>\n",
       "      <td>Rasika Dugal</td>\n",
       "      <td>Vivek Ghamande</td>\n",
       "      <td>Arvind Jangid</td>\n",
       "    </tr>\n",
       "    <tr>\n",
       "      <th>2</th>\n",
       "      <td>#Homecoming</td>\n",
       "      <td>(2021)</td>\n",
       "      <td>90 min</td>\n",
       "      <td>Drama, Musical</td>\n",
       "      <td>NaN</td>\n",
       "      <td>NaN</td>\n",
       "      <td>Soumyajit Majumdar</td>\n",
       "      <td>Sayani Gupta</td>\n",
       "      <td>Plabita Borthakur</td>\n",
       "      <td>Roy Angana</td>\n",
       "    </tr>\n",
       "    <tr>\n",
       "      <th>3</th>\n",
       "      <td>#Yaaram</td>\n",
       "      <td>(2019)</td>\n",
       "      <td>110 min</td>\n",
       "      <td>Comedy, Romance</td>\n",
       "      <td>4.4</td>\n",
       "      <td>35</td>\n",
       "      <td>Ovais Khan</td>\n",
       "      <td>Prateik</td>\n",
       "      <td>Ishita Raj</td>\n",
       "      <td>Siddhant Kapoor</td>\n",
       "    </tr>\n",
       "    <tr>\n",
       "      <th>4</th>\n",
       "      <td>...And Once Again</td>\n",
       "      <td>(2010)</td>\n",
       "      <td>105 min</td>\n",
       "      <td>Drama</td>\n",
       "      <td>NaN</td>\n",
       "      <td>NaN</td>\n",
       "      <td>Amol Palekar</td>\n",
       "      <td>Rajat Kapoor</td>\n",
       "      <td>Rituparna Sengupta</td>\n",
       "      <td>Antara Mali</td>\n",
       "    </tr>\n",
       "  </tbody>\n",
       "</table>\n",
       "</div>"
      ],
      "text/plain": [
       "                                 Name    Year Duration            Genre  \\\n",
       "0                                 NaN     NaN      NaN            Drama   \n",
       "1  #Gadhvi (He thought he was Gandhi)  (2019)  109 min            Drama   \n",
       "2                         #Homecoming  (2021)   90 min   Drama, Musical   \n",
       "3                             #Yaaram  (2019)  110 min  Comedy, Romance   \n",
       "4                   ...And Once Again  (2010)  105 min            Drama   \n",
       "\n",
       "   Rating Votes            Director       Actor 1             Actor 2  \\\n",
       "0     NaN   NaN       J.S. Randhawa      Manmauji              Birbal   \n",
       "1     7.0     8       Gaurav Bakshi  Rasika Dugal      Vivek Ghamande   \n",
       "2     NaN   NaN  Soumyajit Majumdar  Sayani Gupta   Plabita Borthakur   \n",
       "3     4.4    35          Ovais Khan       Prateik          Ishita Raj   \n",
       "4     NaN   NaN        Amol Palekar  Rajat Kapoor  Rituparna Sengupta   \n",
       "\n",
       "           Actor 3  \n",
       "0  Rajendra Bhatia  \n",
       "1    Arvind Jangid  \n",
       "2       Roy Angana  \n",
       "3  Siddhant Kapoor  \n",
       "4      Antara Mali  "
      ]
     },
     "execution_count": 13,
     "metadata": {},
     "output_type": "execute_result"
    }
   ],
   "source": [
    "import pandas as pd\n",
    "df = pd.read_csv('movies_dataset.csv',na_values=(' '),encoding='latin-1')\n",
    "df.head()"
   ]
  },
  {
   "cell_type": "code",
   "execution_count": 14,
   "id": "e153a5cb-9d56-4efe-8cab-0640c320b674",
   "metadata": {},
   "outputs": [
    {
     "data": {
      "text/plain": [
       "(15509, 10)"
      ]
     },
     "execution_count": 14,
     "metadata": {},
     "output_type": "execute_result"
    }
   ],
   "source": [
    "df.shape"
   ]
  },
  {
   "cell_type": "code",
   "execution_count": 15,
   "id": "2ce182dc-a11d-45dd-a8a8-a30767402e4d",
   "metadata": {},
   "outputs": [
    {
     "name": "stdout",
     "output_type": "stream",
     "text": [
      "Number of Rows 15509\n",
      "Number of Columns 10\n"
     ]
    }
   ],
   "source": [
    "print('Number of Rows',df.shape[0])\n",
    "print('Number of Columns',df.shape[1])"
   ]
  },
  {
   "cell_type": "code",
   "execution_count": 16,
   "id": "a5f875d6-7e80-4d9f-9e8a-aa7cc2b2f6a9",
   "metadata": {},
   "outputs": [
    {
     "data": {
      "text/plain": [
       "Index(['Name', 'Year', 'Duration', 'Genre', 'Rating', 'Votes', 'Director',\n",
       "       'Actor 1', 'Actor 2', 'Actor 3'],\n",
       "      dtype='object')"
      ]
     },
     "execution_count": 16,
     "metadata": {},
     "output_type": "execute_result"
    }
   ],
   "source": [
    "df.columns"
   ]
  },
  {
   "cell_type": "code",
   "execution_count": 17,
   "id": "4f38c09e-09fd-4856-a395-77d710c8e9fc",
   "metadata": {},
   "outputs": [
    {
     "data": {
      "text/html": [
       "<div>\n",
       "<style scoped>\n",
       "    .dataframe tbody tr th:only-of-type {\n",
       "        vertical-align: middle;\n",
       "    }\n",
       "\n",
       "    .dataframe tbody tr th {\n",
       "        vertical-align: top;\n",
       "    }\n",
       "\n",
       "    .dataframe thead th {\n",
       "        text-align: right;\n",
       "    }\n",
       "</style>\n",
       "<table border=\"1\" class=\"dataframe\">\n",
       "  <thead>\n",
       "    <tr style=\"text-align: right;\">\n",
       "      <th></th>\n",
       "      <th>count</th>\n",
       "      <th>mean</th>\n",
       "      <th>std</th>\n",
       "      <th>min</th>\n",
       "      <th>25%</th>\n",
       "      <th>50%</th>\n",
       "      <th>75%</th>\n",
       "      <th>max</th>\n",
       "    </tr>\n",
       "  </thead>\n",
       "  <tbody>\n",
       "    <tr>\n",
       "      <th>Rating</th>\n",
       "      <td>7919.0</td>\n",
       "      <td>5.841621</td>\n",
       "      <td>1.381777</td>\n",
       "      <td>1.1</td>\n",
       "      <td>4.9</td>\n",
       "      <td>6.0</td>\n",
       "      <td>6.8</td>\n",
       "      <td>10.0</td>\n",
       "    </tr>\n",
       "  </tbody>\n",
       "</table>\n",
       "</div>"
      ],
      "text/plain": [
       "         count      mean       std  min  25%  50%  75%   max\n",
       "Rating  7919.0  5.841621  1.381777  1.1  4.9  6.0  6.8  10.0"
      ]
     },
     "execution_count": 17,
     "metadata": {},
     "output_type": "execute_result"
    }
   ],
   "source": [
    "df.describe().T"
   ]
  },
  {
   "cell_type": "markdown",
   "id": "108ef911-4852-468c-b65b-efb5133cc959",
   "metadata": {},
   "source": [
    "**Perform Basic Operations To Check Null $ Duplicate Values**"
   ]
  },
  {
   "cell_type": "code",
   "execution_count": 18,
   "id": "a0bb1de3-cf05-48e2-b4f0-5179eaaa44bf",
   "metadata": {},
   "outputs": [
    {
     "name": "stdout",
     "output_type": "stream",
     "text": [
      "<class 'pandas.core.frame.DataFrame'>\n",
      "RangeIndex: 15509 entries, 0 to 15508\n",
      "Data columns (total 10 columns):\n",
      " #   Column    Non-Null Count  Dtype  \n",
      "---  ------    --------------  -----  \n",
      " 0   Name      15508 non-null  object \n",
      " 1   Year      14981 non-null  object \n",
      " 2   Duration  7240 non-null   object \n",
      " 3   Genre     13632 non-null  object \n",
      " 4   Rating    7919 non-null   float64\n",
      " 5   Votes     7920 non-null   object \n",
      " 6   Director  14984 non-null  object \n",
      " 7   Actor 1   13892 non-null  object \n",
      " 8   Actor 2   13125 non-null  object \n",
      " 9   Actor 3   12365 non-null  object \n",
      "dtypes: float64(1), object(9)\n",
      "memory usage: 1.2+ MB\n"
     ]
    }
   ],
   "source": [
    "df.info()"
   ]
  },
  {
   "cell_type": "code",
   "execution_count": 19,
   "id": "be34b055-3e99-4958-b7c2-c924d0bc7f19",
   "metadata": {},
   "outputs": [
    {
     "data": {
      "text/plain": [
       "Name           1\n",
       "Year         528\n",
       "Duration    8269\n",
       "Genre       1877\n",
       "Rating      7590\n",
       "Votes       7589\n",
       "Director     525\n",
       "Actor 1     1617\n",
       "Actor 2     2384\n",
       "Actor 3     3144\n",
       "dtype: int64"
      ]
     },
     "execution_count": 19,
     "metadata": {},
     "output_type": "execute_result"
    }
   ],
   "source": [
    "df.isnull().sum()"
   ]
  },
  {
   "cell_type": "code",
   "execution_count": 20,
   "id": "9370f88d-4414-4b48-96de-4c699b6dc73e",
   "metadata": {},
   "outputs": [
    {
     "data": {
      "text/plain": [
       "6"
      ]
     },
     "execution_count": 20,
     "metadata": {},
     "output_type": "execute_result"
    }
   ],
   "source": [
    "df.duplicated().sum()"
   ]
  },
  {
   "cell_type": "markdown",
   "id": "ed79fe0e-9ba8-4970-a6ab-bcd60c58fcca",
   "metadata": {},
   "source": [
    "So, After performing operations, we got to know that there are missing and duplicate values in dataset."
   ]
  },
  {
   "cell_type": "markdown",
   "id": "c79800b6-3dec-429b-a5ba-52dc60e2e787",
   "metadata": {},
   "source": [
    "**Feature Engineering**"
   ]
  },
  {
   "cell_type": "markdown",
   "id": "dfc029ac-4f58-44a5-a5b1-80582edef119",
   "metadata": {},
   "source": [
    "**1. Handling missing values:**\n",
    "\n",
    "Rating, Votes has many missing values, almost half of the rows of dataset are missing. Rating is our target feature, lets handle missing values. As per IMDB structure, final rating is determined by aggregated value of votes. Lets handle missing Votes."
   ]
  },
  {
   "cell_type": "markdown",
   "id": "d4418ec3-166e-47cf-a187-454d50bee28b",
   "metadata": {},
   "source": [
    "**Drop Duplicate Rows**"
   ]
  },
  {
   "cell_type": "code",
   "execution_count": 21,
   "id": "6bb4cb7e-6737-4254-ad6d-74e266259938",
   "metadata": {},
   "outputs": [
    {
     "data": {
      "text/plain": [
       "0"
      ]
     },
     "execution_count": 21,
     "metadata": {},
     "output_type": "execute_result"
    }
   ],
   "source": [
    "df.drop_duplicates(inplace=True)\n",
    "df.duplicated().sum()"
   ]
  },
  {
   "cell_type": "code",
   "execution_count": 22,
   "id": "a855770b-3252-460d-b1bb-26262497a556",
   "metadata": {},
   "outputs": [
    {
     "data": {
      "text/plain": [
       "Name        13837\n",
       "Year          102\n",
       "Duration      182\n",
       "Genre         485\n",
       "Rating         84\n",
       "Votes        2034\n",
       "Director     5938\n",
       "Actor 1      4718\n",
       "Actor 2      4891\n",
       "Actor 3      4820\n",
       "dtype: int64"
      ]
     },
     "execution_count": 22,
     "metadata": {},
     "output_type": "execute_result"
    }
   ],
   "source": [
    "df.nunique()"
   ]
  },
  {
   "cell_type": "markdown",
   "id": "e39c8c20-eba9-4c75-a547-73c621e353d2",
   "metadata": {},
   "source": [
    "**Filling Null Values**"
   ]
  },
  {
   "cell_type": "code",
   "execution_count": 23,
   "id": "e4ba0e43-bfce-486b-b58e-06f06ddbccb1",
   "metadata": {},
   "outputs": [],
   "source": [
    "cat = list(df.columns[df.dtypes=='object'])"
   ]
  },
  {
   "cell_type": "code",
   "execution_count": 24,
   "id": "9645463e-b6e5-493c-8d09-bb41b38f7e53",
   "metadata": {},
   "outputs": [],
   "source": [
    "mn = df['Rating'].mean()\n",
    "df['Rating'].fillna(mn,inplace=True)"
   ]
  },
  {
   "cell_type": "code",
   "execution_count": 25,
   "id": "a498ea4f-00a4-4e18-b053-7fef14e86c14",
   "metadata": {},
   "outputs": [],
   "source": [
    "for i in cat:\n",
    "    m = df[i].mode()[0]\n",
    "    df[i].fillna(m,inplace=True)"
   ]
  },
  {
   "cell_type": "code",
   "execution_count": 26,
   "id": "7b59afb8-168b-43f2-878f-ad7f9b17461f",
   "metadata": {},
   "outputs": [
    {
     "data": {
      "text/plain": [
       "Name        0\n",
       "Year        0\n",
       "Duration    0\n",
       "Genre       0\n",
       "Rating      0\n",
       "Votes       0\n",
       "Director    0\n",
       "Actor 1     0\n",
       "Actor 2     0\n",
       "Actor 3     0\n",
       "dtype: int64"
      ]
     },
     "execution_count": 26,
     "metadata": {},
     "output_type": "execute_result"
    }
   ],
   "source": [
    "df.isnull().sum()"
   ]
  },
  {
   "cell_type": "code",
   "execution_count": 27,
   "id": "0f6b46c6-43c7-4912-bd6c-7f11133ff2b7",
   "metadata": {},
   "outputs": [
    {
     "data": {
      "text/plain": [
       "(15503, 10)"
      ]
     },
     "execution_count": 27,
     "metadata": {},
     "output_type": "execute_result"
    }
   ],
   "source": [
    "df.shape"
   ]
  },
  {
   "cell_type": "code",
   "execution_count": 28,
   "id": "76de370b-3a53-46ce-b253-a4fb550c3871",
   "metadata": {},
   "outputs": [
    {
     "name": "stdout",
     "output_type": "stream",
     "text": [
      "<class 'pandas.core.frame.DataFrame'>\n",
      "Index: 15503 entries, 0 to 15508\n",
      "Data columns (total 10 columns):\n",
      " #   Column    Non-Null Count  Dtype  \n",
      "---  ------    --------------  -----  \n",
      " 0   Name      15503 non-null  object \n",
      " 1   Year      15503 non-null  object \n",
      " 2   Duration  15503 non-null  object \n",
      " 3   Genre     15503 non-null  object \n",
      " 4   Rating    15503 non-null  float64\n",
      " 5   Votes     15503 non-null  object \n",
      " 6   Director  15503 non-null  object \n",
      " 7   Actor 1   15503 non-null  object \n",
      " 8   Actor 2   15503 non-null  object \n",
      " 9   Actor 3   15503 non-null  object \n",
      "dtypes: float64(1), object(9)\n",
      "memory usage: 1.3+ MB\n"
     ]
    }
   ],
   "source": [
    "df.info()"
   ]
  },
  {
   "cell_type": "code",
   "execution_count": 29,
   "id": "fb8262e3-615f-4b21-8574-57e3d5918c1f",
   "metadata": {},
   "outputs": [
    {
     "data": {
      "text/html": [
       "<div>\n",
       "<style scoped>\n",
       "    .dataframe tbody tr th:only-of-type {\n",
       "        vertical-align: middle;\n",
       "    }\n",
       "\n",
       "    .dataframe tbody tr th {\n",
       "        vertical-align: top;\n",
       "    }\n",
       "\n",
       "    .dataframe thead th {\n",
       "        text-align: right;\n",
       "    }\n",
       "</style>\n",
       "<table border=\"1\" class=\"dataframe\">\n",
       "  <thead>\n",
       "    <tr style=\"text-align: right;\">\n",
       "      <th></th>\n",
       "      <th>Name</th>\n",
       "      <th>Year</th>\n",
       "      <th>Duration</th>\n",
       "      <th>Genre</th>\n",
       "      <th>Rating</th>\n",
       "      <th>Votes</th>\n",
       "      <th>Director</th>\n",
       "      <th>Actor 1</th>\n",
       "      <th>Actor 2</th>\n",
       "      <th>Actor 3</th>\n",
       "    </tr>\n",
       "  </thead>\n",
       "  <tbody>\n",
       "    <tr>\n",
       "      <th>0</th>\n",
       "      <td>Anjaam</td>\n",
       "      <td>(2019)</td>\n",
       "      <td>120 min</td>\n",
       "      <td>Drama</td>\n",
       "      <td>5.841621</td>\n",
       "      <td>8</td>\n",
       "      <td>J.S. Randhawa</td>\n",
       "      <td>Manmauji</td>\n",
       "      <td>Birbal</td>\n",
       "      <td>Rajendra Bhatia</td>\n",
       "    </tr>\n",
       "    <tr>\n",
       "      <th>1</th>\n",
       "      <td>#Gadhvi (He thought he was Gandhi)</td>\n",
       "      <td>(2019)</td>\n",
       "      <td>109 min</td>\n",
       "      <td>Drama</td>\n",
       "      <td>7.000000</td>\n",
       "      <td>8</td>\n",
       "      <td>Gaurav Bakshi</td>\n",
       "      <td>Rasika Dugal</td>\n",
       "      <td>Vivek Ghamande</td>\n",
       "      <td>Arvind Jangid</td>\n",
       "    </tr>\n",
       "    <tr>\n",
       "      <th>2</th>\n",
       "      <td>#Homecoming</td>\n",
       "      <td>(2021)</td>\n",
       "      <td>90 min</td>\n",
       "      <td>Drama, Musical</td>\n",
       "      <td>5.841621</td>\n",
       "      <td>8</td>\n",
       "      <td>Soumyajit Majumdar</td>\n",
       "      <td>Sayani Gupta</td>\n",
       "      <td>Plabita Borthakur</td>\n",
       "      <td>Roy Angana</td>\n",
       "    </tr>\n",
       "    <tr>\n",
       "      <th>3</th>\n",
       "      <td>#Yaaram</td>\n",
       "      <td>(2019)</td>\n",
       "      <td>110 min</td>\n",
       "      <td>Comedy, Romance</td>\n",
       "      <td>4.400000</td>\n",
       "      <td>35</td>\n",
       "      <td>Ovais Khan</td>\n",
       "      <td>Prateik</td>\n",
       "      <td>Ishita Raj</td>\n",
       "      <td>Siddhant Kapoor</td>\n",
       "    </tr>\n",
       "    <tr>\n",
       "      <th>4</th>\n",
       "      <td>...And Once Again</td>\n",
       "      <td>(2010)</td>\n",
       "      <td>105 min</td>\n",
       "      <td>Drama</td>\n",
       "      <td>5.841621</td>\n",
       "      <td>8</td>\n",
       "      <td>Amol Palekar</td>\n",
       "      <td>Rajat Kapoor</td>\n",
       "      <td>Rituparna Sengupta</td>\n",
       "      <td>Antara Mali</td>\n",
       "    </tr>\n",
       "  </tbody>\n",
       "</table>\n",
       "</div>"
      ],
      "text/plain": [
       "                                 Name    Year Duration            Genre  \\\n",
       "0                              Anjaam  (2019)  120 min            Drama   \n",
       "1  #Gadhvi (He thought he was Gandhi)  (2019)  109 min            Drama   \n",
       "2                         #Homecoming  (2021)   90 min   Drama, Musical   \n",
       "3                             #Yaaram  (2019)  110 min  Comedy, Romance   \n",
       "4                   ...And Once Again  (2010)  105 min            Drama   \n",
       "\n",
       "     Rating Votes            Director       Actor 1             Actor 2  \\\n",
       "0  5.841621     8       J.S. Randhawa      Manmauji              Birbal   \n",
       "1  7.000000     8       Gaurav Bakshi  Rasika Dugal      Vivek Ghamande   \n",
       "2  5.841621     8  Soumyajit Majumdar  Sayani Gupta   Plabita Borthakur   \n",
       "3  4.400000    35          Ovais Khan       Prateik          Ishita Raj   \n",
       "4  5.841621     8        Amol Palekar  Rajat Kapoor  Rituparna Sengupta   \n",
       "\n",
       "           Actor 3  \n",
       "0  Rajendra Bhatia  \n",
       "1    Arvind Jangid  \n",
       "2       Roy Angana  \n",
       "3  Siddhant Kapoor  \n",
       "4      Antara Mali  "
      ]
     },
     "execution_count": 29,
     "metadata": {},
     "output_type": "execute_result"
    }
   ],
   "source": [
    "df.head()"
   ]
  },
  {
   "cell_type": "markdown",
   "id": "17922f8e-9d95-4857-8318-2b0fb0e32d63",
   "metadata": {},
   "source": [
    "**2. Convert Year, Votes from string to int**"
   ]
  },
  {
   "cell_type": "code",
   "execution_count": 30,
   "id": "a11c5576-8021-4f9c-8e21-a7e80c68f451",
   "metadata": {},
   "outputs": [],
   "source": [
    "# Convert Date column from string to int\n",
    "df['Year']= df['Year'].str.strip('()').astype(int)\n",
    "# Convert Votes column from string to int\n",
    "df['Votes'] = df['Votes'].str.replace(',','')\n",
    "df['Votes'] = df['Votes'].str.replace('.','')\n",
    "df['Votes'] = df['Votes'].str.strip('$')\n",
    "df['Votes'] = df['Votes'].str.strip('M')\n",
    "df['Votes'] = df['Votes'].astype(int)"
   ]
  },
  {
   "cell_type": "code",
   "execution_count": 31,
   "id": "b3077df5-6f2f-4bf9-921d-f73ccdca5bf4",
   "metadata": {},
   "outputs": [
    {
     "data": {
      "text/plain": [
       "Name        13837\n",
       "Year          102\n",
       "Duration      182\n",
       "Genre         485\n",
       "Rating         85\n",
       "Votes        2034\n",
       "Director     5938\n",
       "Actor 1      4718\n",
       "Actor 2      4891\n",
       "Actor 3      4820\n",
       "dtype: int64"
      ]
     },
     "execution_count": 31,
     "metadata": {},
     "output_type": "execute_result"
    }
   ],
   "source": [
    "df.nunique()"
   ]
  },
  {
   "cell_type": "code",
   "execution_count": 32,
   "id": "9212d5cc-55e4-4295-a3ff-e185a0d72d23",
   "metadata": {},
   "outputs": [
    {
     "data": {
      "text/plain": [
       "Name         object\n",
       "Year          int32\n",
       "Duration     object\n",
       "Genre        object\n",
       "Rating      float64\n",
       "Votes         int32\n",
       "Director     object\n",
       "Actor 1      object\n",
       "Actor 2      object\n",
       "Actor 3      object\n",
       "dtype: object"
      ]
     },
     "execution_count": 32,
     "metadata": {},
     "output_type": "execute_result"
    }
   ],
   "source": [
    "df.dtypes"
   ]
  },
  {
   "cell_type": "markdown",
   "id": "5dab0006-9e0f-45b5-91e9-c1b545c7e6ea",
   "metadata": {},
   "source": [
    "**3. Some Analysis Based On Our Dataset**"
   ]
  },
  {
   "cell_type": "code",
   "execution_count": 33,
   "id": "ea6e61e7-194f-46aa-b768-cd4a269c7e14",
   "metadata": {},
   "outputs": [],
   "source": [
    "import numpy as np\n",
    "import matplotlib.pyplot as plt\n",
    "import seaborn as sns\n",
    "import plotly.express as px"
   ]
  },
  {
   "cell_type": "markdown",
   "id": "58998633-402a-48c4-9f63-7265984348fd",
   "metadata": {},
   "source": [
    "**Number Of Movies By Year**"
   ]
  },
  {
   "cell_type": "code",
   "execution_count": 34,
   "id": "627b1ef9-b47f-4a06-9ca0-914696d8a58b",
   "metadata": {},
   "outputs": [
    {
     "data": {
      "text/plain": [
       "Year\n",
       "1913      1\n",
       "1914      1\n",
       "1915      1\n",
       "1917      1\n",
       "1922      1\n",
       "       ... \n",
       "2018    381\n",
       "2019    935\n",
       "2020    320\n",
       "2021    392\n",
       "2022     38\n",
       "Name: count, Length: 102, dtype: int64"
      ]
     },
     "execution_count": 34,
     "metadata": {},
     "output_type": "execute_result"
    }
   ],
   "source": [
    "df.Year.value_counts().sort_index()"
   ]
  },
  {
   "cell_type": "code",
   "execution_count": 35,
   "id": "a60311bd-0936-4dcf-84e6-9ae70e098eb2",
   "metadata": {},
   "outputs": [
    {
     "data": {
      "image/png": "[encoded data removed]",
      "text/plain": [
       "<Figure size 800x500 with 1 Axes>"
      ]
     },
     "metadata": {},
     "output_type": "display_data"
    }
   ],
   "source": [
    "years = df['Year'].value_counts().sort_index()\n",
    "\n",
    "plt.figure(facecolor = \"orange\",figsize = (8,5))\n",
    "plt.plot(years.index, \n",
    "         years.values,\n",
    "         marker = \"o\", \n",
    "         color = \"red\", \n",
    "         linestyle = \"--\",\n",
    "         markerfacecolor = \"yellow\")\n",
    "plt.title(\"Number of Movies by Year\", fontsize = 16)\n",
    "plt.show()"
   ]
  },
  {
   "cell_type": "markdown",
   "id": "8b845d71-a7b6-40bd-a599-51ef991a1f50",
   "metadata": {},
   "source": [
    "**Top 10 Most Filmed Genres**"
   ]
  },
  {
   "cell_type": "code",
   "execution_count": 36,
   "id": "3d875aae-1daf-4af4-84c7-909fe59ab710",
   "metadata": {},
   "outputs": [
    {
     "data": {
      "text/plain": [
       "Genre\n",
       "Drama                         4655\n",
       "Action                        1288\n",
       "Thriller                       777\n",
       "Romance                        708\n",
       "Drama, Romance                 524\n",
       "                              ... \n",
       "Action, Musical, War             1\n",
       "Horror, Crime, Thriller          1\n",
       "Animation, Comedy                1\n",
       "Romance, Action, Crime           1\n",
       "Adventure, Fantasy, Sci-Fi       1\n",
       "Name: count, Length: 485, dtype: int64"
      ]
     },
     "execution_count": 36,
     "metadata": {},
     "output_type": "execute_result"
    }
   ],
   "source": [
    "df.Genre.value_counts()"
   ]
  },
  {
   "cell_type": "code",
   "execution_count": 37,
   "id": "1b9662fd-3d11-438d-8095-06c35f42cffa",
   "metadata": {},
   "outputs": [
    {
     "data": {
      "text/plain": [
       "Genre\n",
       "Drama        6392\n",
       "Action       3486\n",
       " Drama       2726\n",
       " Romance     1687\n",
       "Comedy       1561\n",
       " Thriller     927\n",
       " Crime        863\n",
       "Thriller      784\n",
       " Family       782\n",
       "Romance       762\n",
       "Name: count, dtype: int64"
      ]
     },
     "execution_count": 37,
     "metadata": {},
     "output_type": "execute_result"
    }
   ],
   "source": [
    "# separates movie genres by comma\n",
    "genres = df['Genre'].str.split(',')\n",
    " \n",
    "# explode method puts each type on a separate line\n",
    "genres = genres.explode()\n",
    "\n",
    "# top 10 most recurring movie genres\n",
    "genres.value_counts().head(10)"
   ]
  },
  {
   "cell_type": "code",
   "execution_count": 38,
   "id": "86f0d216-82e8-472f-9084-b982f4ef8485",
   "metadata": {},
   "outputs": [
    {
     "data": {
      "image/png": "[encoded data removed]",
      "text/plain": [
       "<Figure size 1200x600 with 1 Axes>"
      ]
     },
     "metadata": {},
     "output_type": "display_data"
    }
   ],
   "source": [
    "plt.figure(facecolor = \"orange\",figsize = (12, 6))\n",
    "ax= sns.barplot(y = genres.value_counts().head(10).index, x = genres.value_counts().head(10).values)\n",
    "\n",
    "ax.set(xlabel='Count',ylabel='Genre', title='Top 10 Most Movies Genres')\n",
    "ax.set_facecolor(\"xkcd:mint green\")\n",
    "ax.bar_label(ax.containers[0])\n",
    "\n",
    "plt.show()"
   ]
  },
  {
   "cell_type": "markdown",
   "id": "78fd3282-d9e7-4ee2-9fa9-0404cf314c17",
   "metadata": {},
   "source": [
    "**Top 10 Movies Based on Ratings**"
   ]
  },
  {
   "cell_type": "code",
   "execution_count": 39,
   "id": "7ee3a5fc-b3f8-416b-b9f3-888eb6be5ac4",
   "metadata": {},
   "outputs": [
    {
     "name": "stdout",
     "output_type": "stream",
     "text": [
      "TOP_10 based on ratings\n"
     ]
    },
    {
     "data": {
      "text/html": [
       "<div>\n",
       "<style scoped>\n",
       "    .dataframe tbody tr th:only-of-type {\n",
       "        vertical-align: middle;\n",
       "    }\n",
       "\n",
       "    .dataframe tbody tr th {\n",
       "        vertical-align: top;\n",
       "    }\n",
       "\n",
       "    .dataframe thead th {\n",
       "        text-align: right;\n",
       "    }\n",
       "</style>\n",
       "<table border=\"1\" class=\"dataframe\">\n",
       "  <thead>\n",
       "    <tr style=\"text-align: right;\">\n",
       "      <th></th>\n",
       "      <th>Name</th>\n",
       "      <th>Genre</th>\n",
       "      <th>Rating</th>\n",
       "    </tr>\n",
       "  </thead>\n",
       "  <tbody>\n",
       "    <tr>\n",
       "      <th>8339</th>\n",
       "      <td>Love Qubool Hai</td>\n",
       "      <td>Drama, Romance</td>\n",
       "      <td>10.0</td>\n",
       "    </tr>\n",
       "    <tr>\n",
       "      <th>5410</th>\n",
       "      <td>Half Songs</td>\n",
       "      <td>Music, Romance</td>\n",
       "      <td>9.7</td>\n",
       "    </tr>\n",
       "    <tr>\n",
       "      <th>2563</th>\n",
       "      <td>Breed</td>\n",
       "      <td>Drama</td>\n",
       "      <td>9.6</td>\n",
       "    </tr>\n",
       "    <tr>\n",
       "      <th>14222</th>\n",
       "      <td>The Reluctant Crime</td>\n",
       "      <td>Drama</td>\n",
       "      <td>9.4</td>\n",
       "    </tr>\n",
       "    <tr>\n",
       "      <th>5077</th>\n",
       "      <td>Gho Gho Rani</td>\n",
       "      <td>History, Romance</td>\n",
       "      <td>9.4</td>\n",
       "    </tr>\n",
       "    <tr>\n",
       "      <th>6852</th>\n",
       "      <td>June</td>\n",
       "      <td>Drama</td>\n",
       "      <td>9.4</td>\n",
       "    </tr>\n",
       "    <tr>\n",
       "      <th>11704</th>\n",
       "      <td>Ram-Path</td>\n",
       "      <td>Documentary</td>\n",
       "      <td>9.4</td>\n",
       "    </tr>\n",
       "    <tr>\n",
       "      <th>9105</th>\n",
       "      <td>Meher</td>\n",
       "      <td>Drama</td>\n",
       "      <td>9.3</td>\n",
       "    </tr>\n",
       "    <tr>\n",
       "      <th>1314</th>\n",
       "      <td>Ashok Vatika</td>\n",
       "      <td>Drama</td>\n",
       "      <td>9.3</td>\n",
       "    </tr>\n",
       "    <tr>\n",
       "      <th>8564</th>\n",
       "      <td>Mahakaleshwar - Legends of Shiva</td>\n",
       "      <td>Documentary</td>\n",
       "      <td>9.3</td>\n",
       "    </tr>\n",
       "  </tbody>\n",
       "</table>\n",
       "</div>"
      ],
      "text/plain": [
       "                                   Name             Genre  Rating\n",
       "8339                    Love Qubool Hai    Drama, Romance    10.0\n",
       "5410                         Half Songs    Music, Romance     9.7\n",
       "2563                              Breed             Drama     9.6\n",
       "14222               The Reluctant Crime             Drama     9.4\n",
       "5077                       Gho Gho Rani  History, Romance     9.4\n",
       "6852                               June             Drama     9.4\n",
       "11704                          Ram-Path       Documentary     9.4\n",
       "9105                              Meher             Drama     9.3\n",
       "1314                       Ashok Vatika             Drama     9.3\n",
       "8564   Mahakaleshwar - Legends of Shiva       Documentary     9.3"
      ]
     },
     "execution_count": 39,
     "metadata": {},
     "output_type": "execute_result"
    }
   ],
   "source": [
    "top1_10=df[[\"Name\",\"Genre\",\"Rating\"]].sort_values(by=\"Rating\",ascending=False).head(10)\n",
    "print(\"TOP_10 based on ratings\")\n",
    "top1_10"
   ]
  },
  {
   "cell_type": "code",
   "execution_count": 40,
   "id": "40ca97ed-1583-4935-b9c5-e2801f7793a3",
   "metadata": {},
   "outputs": [
    {
     "data": {
      "image/png": "[encoded data removed]",
      "text/plain": [
       "<Figure size 1200x600 with 1 Axes>"
      ]
     },
     "metadata": {},
     "output_type": "display_data"
    }
   ],
   "source": [
    "plt.figure(facecolor=\"orange\", figsize=(12, 6))\n",
    "\n",
    "ax = sns.barplot(y=top1_10[\"Name\"], x=top1_10[\"Rating\"], palette='inferno')\n",
    "ax.set(xlabel='Rating', ylabel='Movie Name', title='Top 10 Movies Based on Ratings')\n",
    "ax.set_facecolor(\"xkcd:mint green\")\n",
    "\n",
    "for p in ax.patches:\n",
    "    ax.annotate(f'{p.get_width():.2f}', \n",
    "                (p.get_width(), p.get_y() + p.get_height()/2), \n",
    "                ha='left', va='center', fontsize=10, color='black')\n",
    "\n",
    "plt.show()"
   ]
  },
  {
   "cell_type": "markdown",
   "id": "3421d626-a46b-4adc-9c45-bca6367a2dc0",
   "metadata": {},
   "source": [
    "**Top 10 Movies Based On Votes**"
   ]
  },
  {
   "cell_type": "code",
   "execution_count": 41,
   "id": "6d7b3fb6-8745-4c42-844b-89cdae16c3d1",
   "metadata": {},
   "outputs": [
    {
     "name": "stdout",
     "output_type": "stream",
     "text": [
      "TOP_10 based on votes\n"
     ]
    },
    {
     "data": {
      "text/html": [
       "<div>\n",
       "<style scoped>\n",
       "    .dataframe tbody tr th:only-of-type {\n",
       "        vertical-align: middle;\n",
       "    }\n",
       "\n",
       "    .dataframe tbody tr th {\n",
       "        vertical-align: top;\n",
       "    }\n",
       "\n",
       "    .dataframe thead th {\n",
       "        text-align: right;\n",
       "    }\n",
       "</style>\n",
       "<table border=\"1\" class=\"dataframe\">\n",
       "  <thead>\n",
       "    <tr style=\"text-align: right;\">\n",
       "      <th></th>\n",
       "      <th>Name</th>\n",
       "      <th>Genre</th>\n",
       "      <th>Votes</th>\n",
       "    </tr>\n",
       "  </thead>\n",
       "  <tbody>\n",
       "    <tr>\n",
       "      <th>8219</th>\n",
       "      <td>Life of Pi</td>\n",
       "      <td>Adventure, Drama, Fantasy</td>\n",
       "      <td>591417</td>\n",
       "    </tr>\n",
       "    <tr>\n",
       "      <th>75</th>\n",
       "      <td>3 Idiots</td>\n",
       "      <td>Comedy, Drama</td>\n",
       "      <td>357889</td>\n",
       "    </tr>\n",
       "    <tr>\n",
       "      <th>8233</th>\n",
       "      <td>Lion</td>\n",
       "      <td>Biography, Drama</td>\n",
       "      <td>220526</td>\n",
       "    </tr>\n",
       "    <tr>\n",
       "      <th>4848</th>\n",
       "      <td>Gandhi</td>\n",
       "      <td>Biography, Drama, History</td>\n",
       "      <td>220118</td>\n",
       "    </tr>\n",
       "    <tr>\n",
       "      <th>14038</th>\n",
       "      <td>The Darjeeling Limited</td>\n",
       "      <td>Adventure, Comedy, Drama</td>\n",
       "      <td>185127</td>\n",
       "    </tr>\n",
       "    <tr>\n",
       "      <th>8228</th>\n",
       "      <td>Like Stars on Earth</td>\n",
       "      <td>Drama, Family</td>\n",
       "      <td>175810</td>\n",
       "    </tr>\n",
       "    <tr>\n",
       "      <th>10882</th>\n",
       "      <td>PK</td>\n",
       "      <td>Comedy, Drama, Musical</td>\n",
       "      <td>168150</td>\n",
       "    </tr>\n",
       "    <tr>\n",
       "      <th>3410</th>\n",
       "      <td>Dangal</td>\n",
       "      <td>Action, Biography, Drama</td>\n",
       "      <td>165074</td>\n",
       "    </tr>\n",
       "    <tr>\n",
       "      <th>11463</th>\n",
       "      <td>Radhe</td>\n",
       "      <td>Action, Crime, Thriller</td>\n",
       "      <td>162455</td>\n",
       "    </tr>\n",
       "    <tr>\n",
       "      <th>3829</th>\n",
       "      <td>Dil Bechara</td>\n",
       "      <td>Comedy, Drama, Romance</td>\n",
       "      <td>117377</td>\n",
       "    </tr>\n",
       "  </tbody>\n",
       "</table>\n",
       "</div>"
      ],
      "text/plain": [
       "                         Name                      Genre   Votes\n",
       "8219               Life of Pi  Adventure, Drama, Fantasy  591417\n",
       "75                   3 Idiots              Comedy, Drama  357889\n",
       "8233                     Lion           Biography, Drama  220526\n",
       "4848                   Gandhi  Biography, Drama, History  220118\n",
       "14038  The Darjeeling Limited   Adventure, Comedy, Drama  185127\n",
       "8228      Like Stars on Earth              Drama, Family  175810\n",
       "10882                      PK     Comedy, Drama, Musical  168150\n",
       "3410                   Dangal   Action, Biography, Drama  165074\n",
       "11463                   Radhe    Action, Crime, Thriller  162455\n",
       "3829              Dil Bechara     Comedy, Drama, Romance  117377"
      ]
     },
     "execution_count": 41,
     "metadata": {},
     "output_type": "execute_result"
    }
   ],
   "source": [
    "top_10=df[[\"Name\",\"Genre\",\"Votes\"]].sort_values(by=\"Votes\",ascending=False).head(10)\n",
    "print(\"TOP_10 based on votes\")\n",
    "top_10"
   ]
  },
  {
   "cell_type": "code",
   "execution_count": 42,
   "id": "d46f5093-7566-4523-a03e-b86bdce31446",
   "metadata": {},
   "outputs": [
    {
     "data": {
      "image/png": "[encoded data removed]",
      "text/plain": [
       "<Figure size 1200x600 with 1 Axes>"
      ]
     },
     "metadata": {},
     "output_type": "display_data"
    }
   ],
   "source": [
    "plt.figure(facecolor=\"orange\", figsize=(12, 6))\n",
    "\n",
    "ax = sns.barplot(y=top_10[\"Name\"], x=top_10[\"Votes\"], palette='inferno')\n",
    "ax.set(xlabel='Rating', ylabel='Movie Name', title='Top 10 Movies Based on Votes')\n",
    "ax.set_facecolor(\"xkcd:mint green\")\n",
    "\n",
    "for p in ax.patches:\n",
    "    ax.annotate(f'{p.get_width():.2f}', \n",
    "                (p.get_width(), p.get_y() + p.get_height()/2), \n",
    "                ha='left', va='center', fontsize=10, color='black')\n",
    "\n",
    "plt.show()"
   ]
  },
  {
   "cell_type": "markdown",
   "id": "d1f1f968-5138-408c-8d5e-1d811ddbe015",
   "metadata": {},
   "source": [
    "**4. Dropping Statistically Insignificant Columns**"
   ]
  },
  {
   "cell_type": "code",
   "execution_count": 43,
   "id": "14955941-8a69-4db5-921f-95c4048b6515",
   "metadata": {},
   "outputs": [
    {
     "data": {
      "text/html": [
       "<div>\n",
       "<style scoped>\n",
       "    .dataframe tbody tr th:only-of-type {\n",
       "        vertical-align: middle;\n",
       "    }\n",
       "\n",
       "    .dataframe tbody tr th {\n",
       "        vertical-align: top;\n",
       "    }\n",
       "\n",
       "    .dataframe thead th {\n",
       "        text-align: right;\n",
       "    }\n",
       "</style>\n",
       "<table border=\"1\" class=\"dataframe\">\n",
       "  <thead>\n",
       "    <tr style=\"text-align: right;\">\n",
       "      <th></th>\n",
       "      <th>Year</th>\n",
       "      <th>Genre</th>\n",
       "      <th>Rating</th>\n",
       "      <th>Votes</th>\n",
       "      <th>Director</th>\n",
       "      <th>Actor 1</th>\n",
       "      <th>Actor 2</th>\n",
       "      <th>Actor 3</th>\n",
       "    </tr>\n",
       "  </thead>\n",
       "  <tbody>\n",
       "    <tr>\n",
       "      <th>0</th>\n",
       "      <td>2019</td>\n",
       "      <td>Drama</td>\n",
       "      <td>5.841621</td>\n",
       "      <td>8</td>\n",
       "      <td>J.S. Randhawa</td>\n",
       "      <td>Manmauji</td>\n",
       "      <td>Birbal</td>\n",
       "      <td>Rajendra Bhatia</td>\n",
       "    </tr>\n",
       "    <tr>\n",
       "      <th>1</th>\n",
       "      <td>2019</td>\n",
       "      <td>Drama</td>\n",
       "      <td>7.000000</td>\n",
       "      <td>8</td>\n",
       "      <td>Gaurav Bakshi</td>\n",
       "      <td>Rasika Dugal</td>\n",
       "      <td>Vivek Ghamande</td>\n",
       "      <td>Arvind Jangid</td>\n",
       "    </tr>\n",
       "    <tr>\n",
       "      <th>2</th>\n",
       "      <td>2021</td>\n",
       "      <td>Drama, Musical</td>\n",
       "      <td>5.841621</td>\n",
       "      <td>8</td>\n",
       "      <td>Soumyajit Majumdar</td>\n",
       "      <td>Sayani Gupta</td>\n",
       "      <td>Plabita Borthakur</td>\n",
       "      <td>Roy Angana</td>\n",
       "    </tr>\n",
       "    <tr>\n",
       "      <th>3</th>\n",
       "      <td>2019</td>\n",
       "      <td>Comedy, Romance</td>\n",
       "      <td>4.400000</td>\n",
       "      <td>35</td>\n",
       "      <td>Ovais Khan</td>\n",
       "      <td>Prateik</td>\n",
       "      <td>Ishita Raj</td>\n",
       "      <td>Siddhant Kapoor</td>\n",
       "    </tr>\n",
       "    <tr>\n",
       "      <th>4</th>\n",
       "      <td>2010</td>\n",
       "      <td>Drama</td>\n",
       "      <td>5.841621</td>\n",
       "      <td>8</td>\n",
       "      <td>Amol Palekar</td>\n",
       "      <td>Rajat Kapoor</td>\n",
       "      <td>Rituparna Sengupta</td>\n",
       "      <td>Antara Mali</td>\n",
       "    </tr>\n",
       "  </tbody>\n",
       "</table>\n",
       "</div>"
      ],
      "text/plain": [
       "   Year            Genre    Rating  Votes            Director       Actor 1  \\\n",
       "0  2019            Drama  5.841621      8       J.S. Randhawa      Manmauji   \n",
       "1  2019            Drama  7.000000      8       Gaurav Bakshi  Rasika Dugal   \n",
       "2  2021   Drama, Musical  5.841621      8  Soumyajit Majumdar  Sayani Gupta   \n",
       "3  2019  Comedy, Romance  4.400000     35          Ovais Khan       Prateik   \n",
       "4  2010            Drama  5.841621      8        Amol Palekar  Rajat Kapoor   \n",
       "\n",
       "              Actor 2          Actor 3  \n",
       "0              Birbal  Rajendra Bhatia  \n",
       "1      Vivek Ghamande    Arvind Jangid  \n",
       "2   Plabita Borthakur       Roy Angana  \n",
       "3          Ishita Raj  Siddhant Kapoor  \n",
       "4  Rituparna Sengupta      Antara Mali  "
      ]
     },
     "execution_count": 43,
     "metadata": {},
     "output_type": "execute_result"
    }
   ],
   "source": [
    "df.drop(columns=['Name','Duration'],axis=1,inplace=True)\n",
    "df.head()"
   ]
  },
  {
   "cell_type": "markdown",
   "id": "96e49d37-771c-4975-b99a-3fcf0e0f9b14",
   "metadata": {},
   "source": [
    "**5. Encoding Categorical features using Target encoding-Mean encoding**"
   ]
  },
  {
   "cell_type": "code",
   "execution_count": 44,
   "id": "5ddd2c82-1b5b-4bef-ad27-71e32d124332",
   "metadata": {},
   "outputs": [
    {
     "data": {
      "text/html": [
       "<div>\n",
       "<style scoped>\n",
       "    .dataframe tbody tr th:only-of-type {\n",
       "        vertical-align: middle;\n",
       "    }\n",
       "\n",
       "    .dataframe tbody tr th {\n",
       "        vertical-align: top;\n",
       "    }\n",
       "\n",
       "    .dataframe thead th {\n",
       "        text-align: right;\n",
       "    }\n",
       "</style>\n",
       "<table border=\"1\" class=\"dataframe\">\n",
       "  <thead>\n",
       "    <tr style=\"text-align: right;\">\n",
       "      <th></th>\n",
       "      <th>Year</th>\n",
       "      <th>Rating</th>\n",
       "      <th>Genre encoded</th>\n",
       "      <th>Votes encoded</th>\n",
       "      <th>Director encoded</th>\n",
       "      <th>Actor 1 encoded</th>\n",
       "      <th>Actor 2 encoded</th>\n",
       "      <th>Actor 3 encoded</th>\n",
       "    </tr>\n",
       "  </thead>\n",
       "  <tbody>\n",
       "    <tr>\n",
       "      <th>0</th>\n",
       "      <td>2019</td>\n",
       "      <td>5.8</td>\n",
       "      <td>6.0</td>\n",
       "      <td>5.8</td>\n",
       "      <td>5.8</td>\n",
       "      <td>5.8</td>\n",
       "      <td>5.5</td>\n",
       "      <td>5.8</td>\n",
       "    </tr>\n",
       "    <tr>\n",
       "      <th>1</th>\n",
       "      <td>2019</td>\n",
       "      <td>7.0</td>\n",
       "      <td>6.0</td>\n",
       "      <td>5.8</td>\n",
       "      <td>7.0</td>\n",
       "      <td>6.8</td>\n",
       "      <td>7.0</td>\n",
       "      <td>7.0</td>\n",
       "    </tr>\n",
       "    <tr>\n",
       "      <th>2</th>\n",
       "      <td>2021</td>\n",
       "      <td>5.8</td>\n",
       "      <td>6.3</td>\n",
       "      <td>5.8</td>\n",
       "      <td>5.8</td>\n",
       "      <td>6.2</td>\n",
       "      <td>6.8</td>\n",
       "      <td>5.8</td>\n",
       "    </tr>\n",
       "    <tr>\n",
       "      <th>3</th>\n",
       "      <td>2019</td>\n",
       "      <td>4.4</td>\n",
       "      <td>5.7</td>\n",
       "      <td>5.9</td>\n",
       "      <td>4.4</td>\n",
       "      <td>5.4</td>\n",
       "      <td>4.4</td>\n",
       "      <td>4.4</td>\n",
       "    </tr>\n",
       "    <tr>\n",
       "      <th>4</th>\n",
       "      <td>2010</td>\n",
       "      <td>5.8</td>\n",
       "      <td>6.0</td>\n",
       "      <td>5.8</td>\n",
       "      <td>6.3</td>\n",
       "      <td>6.8</td>\n",
       "      <td>5.8</td>\n",
       "      <td>5.5</td>\n",
       "    </tr>\n",
       "  </tbody>\n",
       "</table>\n",
       "</div>"
      ],
      "text/plain": [
       "   Year  Rating  Genre encoded  Votes encoded  Director encoded  \\\n",
       "0  2019     5.8            6.0            5.8               5.8   \n",
       "1  2019     7.0            6.0            5.8               7.0   \n",
       "2  2021     5.8            6.3            5.8               5.8   \n",
       "3  2019     4.4            5.7            5.9               4.4   \n",
       "4  2010     5.8            6.0            5.8               6.3   \n",
       "\n",
       "   Actor 1 encoded  Actor 2 encoded  Actor 3 encoded  \n",
       "0              5.8              5.5              5.8  \n",
       "1              6.8              7.0              7.0  \n",
       "2              6.2              6.8              5.8  \n",
       "3              5.4              4.4              4.4  \n",
       "4              6.8              5.8              5.5  "
      ]
     },
     "execution_count": 44,
     "metadata": {},
     "output_type": "execute_result"
    }
   ],
   "source": [
    "# performing mean encoding\n",
    "df['Genre encoded'] = round(df.groupby('Genre')['Rating'].transform('mean'),1)\n",
    "df['Votes encoded'] = round(df.groupby('Votes')['Rating'].transform('mean'),1)\n",
    "df['Director encoded'] = round(df.groupby('Director')['Rating'].transform('mean'),1)\n",
    "df['Actor 1 encoded'] = round(df.groupby('Actor 1')['Rating'].transform('mean'),1)\n",
    "df['Actor 2 encoded'] = round(df.groupby('Actor 2')['Rating'].transform('mean'),1)\n",
    "df['Actor 3 encoded'] = round(df.groupby('Actor 3')['Rating'].transform('mean'),1)\n",
    "\n",
    "df.drop(columns=['Genre','Votes','Director','Actor 1','Actor 2','Actor 3'],inplace=True)\n",
    "df['Rating'] = round(df['Rating'],1)\n",
    "df.head()"
   ]
  },
  {
   "cell_type": "markdown",
   "id": "36945b3d-c3a7-4919-a95d-4f6d536be61c",
   "metadata": {},
   "source": [
    "**6. Separate X and Y Features**"
   ]
  },
  {
   "cell_type": "code",
   "execution_count": 45,
   "id": "f3977d9a-9ef6-4ac2-94b5-0c17e6590b6f",
   "metadata": {},
   "outputs": [],
   "source": [
    "X = df.drop(columns='Rating')\n",
    "Y =df[['Rating']]"
   ]
  },
  {
   "cell_type": "code",
   "execution_count": 46,
   "id": "41cbe784-c321-410e-9fa8-85bf6053ba76",
   "metadata": {},
   "outputs": [
    {
     "data": {
      "text/html": [
       "<div>\n",
       "<style scoped>\n",
       "    .dataframe tbody tr th:only-of-type {\n",
       "        vertical-align: middle;\n",
       "    }\n",
       "\n",
       "    .dataframe tbody tr th {\n",
       "        vertical-align: top;\n",
       "    }\n",
       "\n",
       "    .dataframe thead th {\n",
       "        text-align: right;\n",
       "    }\n",
       "</style>\n",
       "<table border=\"1\" class=\"dataframe\">\n",
       "  <thead>\n",
       "    <tr style=\"text-align: right;\">\n",
       "      <th></th>\n",
       "      <th>Year</th>\n",
       "      <th>Genre encoded</th>\n",
       "      <th>Votes encoded</th>\n",
       "      <th>Director encoded</th>\n",
       "      <th>Actor 1 encoded</th>\n",
       "      <th>Actor 2 encoded</th>\n",
       "      <th>Actor 3 encoded</th>\n",
       "    </tr>\n",
       "  </thead>\n",
       "  <tbody>\n",
       "    <tr>\n",
       "      <th>0</th>\n",
       "      <td>2019</td>\n",
       "      <td>6.0</td>\n",
       "      <td>5.8</td>\n",
       "      <td>5.8</td>\n",
       "      <td>5.8</td>\n",
       "      <td>5.5</td>\n",
       "      <td>5.8</td>\n",
       "    </tr>\n",
       "    <tr>\n",
       "      <th>1</th>\n",
       "      <td>2019</td>\n",
       "      <td>6.0</td>\n",
       "      <td>5.8</td>\n",
       "      <td>7.0</td>\n",
       "      <td>6.8</td>\n",
       "      <td>7.0</td>\n",
       "      <td>7.0</td>\n",
       "    </tr>\n",
       "    <tr>\n",
       "      <th>2</th>\n",
       "      <td>2021</td>\n",
       "      <td>6.3</td>\n",
       "      <td>5.8</td>\n",
       "      <td>5.8</td>\n",
       "      <td>6.2</td>\n",
       "      <td>6.8</td>\n",
       "      <td>5.8</td>\n",
       "    </tr>\n",
       "    <tr>\n",
       "      <th>3</th>\n",
       "      <td>2019</td>\n",
       "      <td>5.7</td>\n",
       "      <td>5.9</td>\n",
       "      <td>4.4</td>\n",
       "      <td>5.4</td>\n",
       "      <td>4.4</td>\n",
       "      <td>4.4</td>\n",
       "    </tr>\n",
       "    <tr>\n",
       "      <th>4</th>\n",
       "      <td>2010</td>\n",
       "      <td>6.0</td>\n",
       "      <td>5.8</td>\n",
       "      <td>6.3</td>\n",
       "      <td>6.8</td>\n",
       "      <td>5.8</td>\n",
       "      <td>5.5</td>\n",
       "    </tr>\n",
       "  </tbody>\n",
       "</table>\n",
       "</div>"
      ],
      "text/plain": [
       "   Year  Genre encoded  Votes encoded  Director encoded  Actor 1 encoded  \\\n",
       "0  2019            6.0            5.8               5.8              5.8   \n",
       "1  2019            6.0            5.8               7.0              6.8   \n",
       "2  2021            6.3            5.8               5.8              6.2   \n",
       "3  2019            5.7            5.9               4.4              5.4   \n",
       "4  2010            6.0            5.8               6.3              6.8   \n",
       "\n",
       "   Actor 2 encoded  Actor 3 encoded  \n",
       "0              5.5              5.8  \n",
       "1              7.0              7.0  \n",
       "2              6.8              5.8  \n",
       "3              4.4              4.4  \n",
       "4              5.8              5.5  "
      ]
     },
     "execution_count": 46,
     "metadata": {},
     "output_type": "execute_result"
    }
   ],
   "source": [
    "X.head()"
   ]
  },
  {
   "cell_type": "code",
   "execution_count": 47,
   "id": "87837299-a1f3-433f-840f-f6c7488e358f",
   "metadata": {},
   "outputs": [
    {
     "data": {
      "text/html": [
       "<div>\n",
       "<style scoped>\n",
       "    .dataframe tbody tr th:only-of-type {\n",
       "        vertical-align: middle;\n",
       "    }\n",
       "\n",
       "    .dataframe tbody tr th {\n",
       "        vertical-align: top;\n",
       "    }\n",
       "\n",
       "    .dataframe thead th {\n",
       "        text-align: right;\n",
       "    }\n",
       "</style>\n",
       "<table border=\"1\" class=\"dataframe\">\n",
       "  <thead>\n",
       "    <tr style=\"text-align: right;\">\n",
       "      <th></th>\n",
       "      <th>Rating</th>\n",
       "    </tr>\n",
       "  </thead>\n",
       "  <tbody>\n",
       "    <tr>\n",
       "      <th>0</th>\n",
       "      <td>5.8</td>\n",
       "    </tr>\n",
       "    <tr>\n",
       "      <th>1</th>\n",
       "      <td>7.0</td>\n",
       "    </tr>\n",
       "    <tr>\n",
       "      <th>2</th>\n",
       "      <td>5.8</td>\n",
       "    </tr>\n",
       "    <tr>\n",
       "      <th>3</th>\n",
       "      <td>4.4</td>\n",
       "    </tr>\n",
       "    <tr>\n",
       "      <th>4</th>\n",
       "      <td>5.8</td>\n",
       "    </tr>\n",
       "  </tbody>\n",
       "</table>\n",
       "</div>"
      ],
      "text/plain": [
       "   Rating\n",
       "0     5.8\n",
       "1     7.0\n",
       "2     5.8\n",
       "3     4.4\n",
       "4     5.8"
      ]
     },
     "execution_count": 47,
     "metadata": {},
     "output_type": "execute_result"
    }
   ],
   "source": [
    "Y.head()"
   ]
  },
  {
   "cell_type": "markdown",
   "id": "ff1dfb40-d187-4e00-a2ad-4185e265777f",
   "metadata": {},
   "source": [
    "**7. Split the dataset into Training Data and Testing Data**"
   ]
  },
  {
   "cell_type": "code",
   "execution_count": 48,
   "id": "b3d7a437-a107-4bc5-9f44-a7ed74790c1f",
   "metadata": {},
   "outputs": [],
   "source": [
    "from sklearn.model_selection import train_test_split\n",
    "xtrain, xtest, ytrain, ytest = train_test_split(X,Y,test_size=0.25,random_state=21)"
   ]
  },
  {
   "cell_type": "code",
   "execution_count": 49,
   "id": "9b54199f-a52c-4244-b389-82319dd1922b",
   "metadata": {},
   "outputs": [
    {
     "data": {
      "text/plain": [
       "(11627, 7)"
      ]
     },
     "execution_count": 49,
     "metadata": {},
     "output_type": "execute_result"
    }
   ],
   "source": [
    "xtrain.shape"
   ]
  },
  {
   "cell_type": "code",
   "execution_count": 50,
   "id": "6d8d497b-f4d4-42a6-9eb3-1e336965d9b2",
   "metadata": {},
   "outputs": [
    {
     "data": {
      "text/plain": [
       "(3876, 7)"
      ]
     },
     "execution_count": 50,
     "metadata": {},
     "output_type": "execute_result"
    }
   ],
   "source": [
    "xtest.shape"
   ]
  },
  {
   "cell_type": "code",
   "execution_count": 51,
   "id": "5377bd12-60bb-4950-9508-0c842dd07416",
   "metadata": {},
   "outputs": [
    {
     "data": {
      "text/plain": [
       "(11627, 1)"
      ]
     },
     "execution_count": 51,
     "metadata": {},
     "output_type": "execute_result"
    }
   ],
   "source": [
    "ytrain.shape"
   ]
  },
  {
   "cell_type": "code",
   "execution_count": 52,
   "id": "57416601-283e-4268-815b-adf69b1fd742",
   "metadata": {},
   "outputs": [
    {
     "data": {
      "text/plain": [
       "(3876, 1)"
      ]
     },
     "execution_count": 52,
     "metadata": {},
     "output_type": "execute_result"
    }
   ],
   "source": [
    "ytest.shape"
   ]
  },
  {
   "cell_type": "markdown",
   "id": "4e4108f3-ec4c-4ec0-b970-cc058d6a8cf9",
   "metadata": {},
   "source": [
    "**8. Build The Model**"
   ]
  },
  {
   "cell_type": "code",
   "execution_count": 53,
   "id": "492342aa-44ab-4870-92ae-5e32dd6c28ba",
   "metadata": {},
   "outputs": [],
   "source": [
    "from sklearn.linear_model import LinearRegression\n",
    "from sklearn.tree import DecisionTreeRegressor\n",
    "from sklearn.ensemble import RandomForestRegressor,GradientBoostingRegressor\n",
    "from sklearn.neighbors import KNeighborsRegressor\n",
    "from sklearn.svm import SVR"
   ]
  },
  {
   "cell_type": "code",
   "execution_count": 54,
   "id": "25d823a6-e787-4f56-b947-bedbdcff23e8",
   "metadata": {},
   "outputs": [],
   "source": [
    "dict = {\n",
    "    'Linear':LinearRegression(),\n",
    "    'DecisionTree':DecisionTreeRegressor(),\n",
    "    'RandomForest':RandomForestRegressor(),\n",
    "    'GradientBoosting':GradientBoostingRegressor(),\n",
    "    'KNN':KNeighborsRegressor(),\n",
    "    'SVR':SVR()\n",
    "}"
   ]
  },
  {
   "cell_type": "code",
   "execution_count": 55,
   "id": "fff21bab-c6ba-4868-b637-81ba8ac084ed",
   "metadata": {},
   "outputs": [
    {
     "data": {
      "text/plain": [
       "dict_items([('Linear', LinearRegression()), ('DecisionTree', DecisionTreeRegressor()), ('RandomForest', RandomForestRegressor()), ('GradientBoosting', GradientBoostingRegressor()), ('KNN', KNeighborsRegressor()), ('SVR', SVR())])"
      ]
     },
     "execution_count": 55,
     "metadata": {},
     "output_type": "execute_result"
    }
   ],
   "source": [
    "dict.items()"
   ]
  },
  {
   "cell_type": "code",
   "execution_count": 56,
   "id": "418c59aa-bba0-4366-b0cd-1c37342f9a78",
   "metadata": {},
   "outputs": [],
   "source": [
    "from sklearn.metrics import mean_squared_error,r2_score\n",
    "from sklearn.model_selection import cross_val_score"
   ]
  },
  {
   "cell_type": "code",
   "execution_count": 57,
   "id": "4179e93b-7d6f-4ab4-bbb4-0e383ee4ebab",
   "metadata": {},
   "outputs": [
    {
     "name": "stdout",
     "output_type": "stream",
     "text": [
      "Scores for Linear\n",
      "Training Scores\n",
      "MSE:[0.24292205405189032]\n",
      "R2:[74.57212477515299]\n",
      "Testing Scores\n",
      "MSE:[0.2571004498548369]\n",
      "R2:[75.18600338447983]\n",
      "CV:[74.5059875860101]\n",
      "===============================\n",
      "Scores for DecisionTree\n",
      "Training Scores\n",
      "MSE:[0.24292205405189032, 0.00020885295719732806]\n",
      "R2:[74.57212477515299, 99.97813830878106]\n",
      "Testing Scores\n",
      "MSE:[0.2571004498548369, 0.4134059310858847]\n",
      "R2:[75.18600338447983, 60.100212268811326]\n",
      "CV:[74.5059875860101, 57.20025634573489]\n",
      "===============================\n",
      "Scores for RandomForest\n",
      "Training Scores\n",
      "MSE:[0.24292205405189032, 0.00020885295719732806, 0.027027312478255305]\n",
      "R2:[74.57212477515299, 99.97813830878106, 97.17091504086646]\n",
      "Testing Scores\n",
      "MSE:[0.2571004498548369, 0.4134059310858847, 0.20902309066852834]\n",
      "R2:[75.18600338447983, 60.100212268811326, 79.82617973891945]\n",
      "CV:[74.5059875860101, 57.20025634573489, 79.49897431149179]\n",
      "===============================\n",
      "Scores for GradientBoosting\n",
      "Training Scores\n",
      "MSE:[0.24292205405189032, 0.00020885295719732806, 0.027027312478255305, 0.186113057641966]\n",
      "R2:[74.57212477515299, 99.97813830878106, 97.17091504086646, 80.51860862981269]\n",
      "Testing Scores\n",
      "MSE:[0.2571004498548369, 0.4134059310858847, 0.20902309066852834, 0.2204308229516953]\n",
      "R2:[75.18600338447983, 60.100212268811326, 79.82617973891945, 78.7251648226675]\n",
      "CV:[74.5059875860101, 57.20025634573489, 79.49897431149179, 78.26850587696654]\n",
      "===============================\n",
      "Scores for KNN\n",
      "Training Scores\n",
      "MSE:[0.24292205405189032, 0.00020885295719732806, 0.027027312478255305, 0.186113057641966, 0.17929219919153694]\n",
      "R2:[74.57212477515299, 99.97813830878106, 97.17091504086646, 80.51860862981269, 81.23258224690883]\n",
      "Testing Scores\n",
      "MSE:[0.2571004498548369, 0.4134059310858847, 0.20902309066852834, 0.2204308229516953, 0.28502745098039217]\n",
      "R2:[75.18600338447983, 60.100212268811326, 79.82617973891945, 78.7251648226675, 72.49063466068948]\n",
      "CV:[74.5059875860101, 57.20025634573489, 79.49897431149179, 78.26850587696654, 70.76026645508306]\n",
      "===============================\n",
      "Scores for SVR\n",
      "Training Scores\n",
      "MSE:[0.24292205405189032, 0.00020885295719732806, 0.027027312478255305, 0.186113057641966, 0.17929219919153694, 0.9522994434345087]\n",
      "R2:[74.57212477515299, 99.97813830878106, 97.17091504086646, 80.51860862981269, 81.23258224690883, 0.31801962628141833]\n",
      "Testing Scores\n",
      "MSE:[0.2571004498548369, 0.4134059310858847, 0.20902309066852834, 0.2204308229516953, 0.28502745098039217, 1.035302623814087]\n",
      "R2:[75.18600338447983, 60.100212268811326, 79.82617973891945, 78.7251648226675, 72.49063466068948, 0.0779819021440642]\n",
      "CV:[74.5059875860101, 57.20025634573489, 79.49897431149179, 78.26850587696654, 70.76026645508306, 0.11571706669839753]\n",
      "===============================\n"
     ]
    }
   ],
   "source": [
    "train_mse = []\n",
    "train_r2 = []\n",
    "test_mse = []\n",
    "test_r2 = []\n",
    "train_cv = []\n",
    "\n",
    "for name,model in dict.items():\n",
    "    # fit the model\n",
    "    m = model.fit(xtrain,ytrain)\n",
    "    ypred_train = m.predict(xtrain)\n",
    "    ypred_test = m.predict(xtest)\n",
    "    # calculate MSE\n",
    "    mse_train = mean_squared_error(ytrain,ypred_train)\n",
    "    mse_test = mean_squared_error(ytest,ypred_test)\n",
    "    # caluclate R2\n",
    "    r2_train = (r2_score(ytrain,ypred_train))*100\n",
    "    r2_test = (r2_score(ytest,ypred_test))*100\n",
    "    # calculate cross validated scores\n",
    "    cv = cross_val_score(m,xtrain,ytrain,cv=5,scoring='r2')\n",
    "    scores = (cv.mean())*100\n",
    "\n",
    "    # add these values to the respective list to compare the output\n",
    "    train_mse.append(mse_train)\n",
    "    train_r2.append(r2_train)\n",
    "    test_mse.append(mse_test)\n",
    "    test_r2.append(r2_test)\n",
    "    train_cv.append(scores)\n",
    "\n",
    "    # print the results\n",
    "    print(f'Scores for {name}')\n",
    "    print(\"Training Scores\")\n",
    "    print(f'MSE:{train_mse}')\n",
    "    print(f'R2:{train_r2}')\n",
    "    print(\"Testing Scores\")\n",
    "    print(f'MSE:{test_mse}')\n",
    "    print(f'R2:{test_r2}')\n",
    "    print(f'CV:{train_cv}')\n",
    "    print(\"===============================\")"
   ]
  },
  {
   "cell_type": "code",
   "execution_count": 58,
   "id": "ec729c68-2e3a-4c52-aade-da7c2100512a",
   "metadata": {},
   "outputs": [],
   "source": [
    "res = {'Name':list(dict.keys()),\n",
    "       'MSE Training Scores':train_mse,\n",
    "       'MSE Testing Scores':test_mse,\n",
    "       'R2 Training Scores':train_r2,\n",
    "       'R2 Testing Scores':test_r2,\n",
    "       'CV Training Scores':train_cv}"
   ]
  },
  {
   "cell_type": "code",
   "execution_count": null,
   "id": "911a9c23-4bcf-4ad0-9929-c0000fe2ad8b",
   "metadata": {},
   "outputs": [
    {
     "data": {
      "text/html": [
       "<div>\n",
       "<style scoped>\n",
       "    .dataframe tbody tr th:only-of-type {\n",
       "        vertical-align: middle;\n",
       "    }\n",
       "\n",
       "    .dataframe tbody tr th {\n",
       "        vertical-align: top;\n",
       "    }\n",
       "\n",
       "    .dataframe thead th {\n",
       "        text-align: right;\n",
       "    }\n",
       "</style>\n",
       "<table border=\"1\" class=\"dataframe\">\n",
       "  <thead>\n",
       "    <tr style=\"text-align: right;\">\n",
       "      <th></th>\n",
       "      <th>Name</th>\n",
       "      <th>MSE Training Scores</th>\n",
       "      <th>MSE Testing Scores</th>\n",
       "      <th>R2 Training Scores</th>\n",
       "      <th>R2 Testing Scores</th>\n",
       "      <th>CV Training Scores</th>\n",
       "    </tr>\n",
       "  </thead>\n",
       "  <tbody>\n",
       "    <tr>\n",
       "      <th>2</th>\n",
       "      <td>RandomForest</td>\n",
       "      <td>0.027027</td>\n",
       "      <td>0.209023</td>\n",
       "      <td>97.170915</td>\n",
       "      <td>79.826180</td>\n",
       "      <td>79.498974</td>\n",
       "    </tr>\n",
       "    <tr>\n",
       "      <th>3</th>\n",
       "      <td>GradientBoosting</td>\n",
       "      <td>0.186113</td>\n",
       "      <td>0.220431</td>\n",
       "      <td>80.518609</td>\n",
       "      <td>78.725165</td>\n",
       "      <td>78.268506</td>\n",
       "    </tr>\n",
       "    <tr>\n",
       "      <th>0</th>\n",
       "      <td>Linear</td>\n",
       "      <td>0.242922</td>\n",
       "      <td>0.257100</td>\n",
       "      <td>74.572125</td>\n",
       "      <td>75.186003</td>\n",
       "      <td>74.505988</td>\n",
       "    </tr>\n",
       "    <tr>\n",
       "      <th>4</th>\n",
       "      <td>KNN</td>\n",
       "      <td>0.179292</td>\n",
       "      <td>0.285027</td>\n",
       "      <td>81.232582</td>\n",
       "      <td>72.490635</td>\n",
       "      <td>70.760266</td>\n",
       "    </tr>\n",
       "    <tr>\n",
       "      <th>1</th>\n",
       "      <td>DecisionTree</td>\n",
       "      <td>0.000209</td>\n",
       "      <td>0.413406</td>\n",
       "      <td>99.978138</td>\n",
       "      <td>60.100212</td>\n",
       "      <td>57.200256</td>\n",
       "    </tr>\n",
       "    <tr>\n",
       "      <th>5</th>\n",
       "      <td>SVR</td>\n",
       "      <td>0.952299</td>\n",
       "      <td>1.035303</td>\n",
       "      <td>0.318020</td>\n",
       "      <td>0.077982</td>\n",
       "      <td>0.115717</td>\n",
       "    </tr>\n",
       "  </tbody>\n",
       "</table>\n",
       "</div>"
      ],
      "text/plain": [
       "               Name  MSE Training Scores  MSE Testing Scores  \\\n",
       "2      RandomForest             0.027027            0.209023   \n",
       "3  GradientBoosting             0.186113            0.220431   \n",
       "0            Linear             0.242922            0.257100   \n",
       "4               KNN             0.179292            0.285027   \n",
       "1      DecisionTree             0.000209            0.413406   \n",
       "5               SVR             0.952299            1.035303   \n",
       "\n",
       "   R2 Training Scores  R2 Testing Scores  CV Training Scores  \n",
       "2           97.170915          79.826180           79.498974  \n",
       "3           80.518609          78.725165           78.268506  \n",
       "0           74.572125          75.186003           74.505988  \n",
       "4           81.232582          72.490635           70.760266  \n",
       "1           99.978138          60.100212           57.200256  \n",
       "5            0.318020           0.077982            0.115717  "
      ]
     },
     "execution_count": 59,
     "metadata": {},
     "output_type": "execute_result"
    }
   ],
   "source": [
    "df_res = pd.DataFrame(res)\n",
    "df_res.sort_values('CV Training Scores',ascending=False)"
   ]
  },
  {
   "cell_type": "markdown",
   "id": "b2b68727-5e2a-4e92-8613-7a45e0bab0b5",
   "metadata": {},
   "source": [
    "Lets consider Random Forest Regressor as it is giving good results."
   ]
  },
  {
   "cell_type": "markdown",
   "id": "3d6c7b4a-64de-4038-9cce-c586125db5c6",
   "metadata": {},
   "source": [
    "**9. Fine Tuning RandomForestRegressor**"
   ]
  },
  {
   "cell_type": "code",
   "execution_count": 60,
   "id": "62a29c17-ef6c-43e0-bf1b-444243a3fcf0",
   "metadata": {},
   "outputs": [],
   "source": [
    "from sklearn.model_selection import RandomizedSearchCV"
   ]
  },
  {
   "cell_type": "code",
   "execution_count": 61,
   "id": "20009430-e124-44cc-ad88-079dfc163c7c",
   "metadata": {},
   "outputs": [],
   "source": [
    "params = {'n_estimators':[100,200],\n",
    "          'max_depth':[5,6],\n",
    "          'min_samples_split':[2,3],\n",
    "          'criterion':['squared_error','absolute_error']}"
   ]
  },
  {
   "cell_type": "code",
   "execution_count": 62,
   "id": "53193e2d-cd8a-4fc2-9c60-e78058087743",
   "metadata": {},
   "outputs": [],
   "source": [
    "rfr = RandomForestRegressor()"
   ]
  },
  {
   "cell_type": "code",
   "execution_count": 63,
   "id": "9195b522-bb73-42f4-8755-9438812e6957",
   "metadata": {},
   "outputs": [],
   "source": [
    "rscv = RandomizedSearchCV(rfr,params,cv=3,scoring='neg_mean_squared_error')"
   ]
  },
  {
   "cell_type": "code",
   "execution_count": null,
   "id": "e53be98c-f860-40e6-a8d7-5063306db948",
   "metadata": {},
   "outputs": [],
   "source": [
    "rscv.fit(xtrain,ytrain)"
   ]
  },
  {
   "cell_type": "code",
   "execution_count": 67,
   "id": "f219a98f-6c5d-4f53-8c47-ab849474cb0d",
   "metadata": {},
   "outputs": [
    {
     "data": {
      "text/plain": [
       "{'n_estimators': 200,\n",
       " 'min_samples_split': 2,\n",
       " 'max_depth': 6,\n",
       " 'criterion': 'squared_error'}"
      ]
     },
     "execution_count": 67,
     "metadata": {},
     "output_type": "execute_result"
    }
   ],
   "source": [
    "rscv.best_params_"
   ]
  },
  {
   "cell_type": "code",
   "execution_count": 68,
   "id": "aedb7aac-23bf-4dbf-8c3b-e2a41dd686b3",
   "metadata": {},
   "outputs": [
    {
     "data": {
      "text/html": [
       "<style>#sk-container-id-2 {\n",
       "  /* Definition of color scheme common for light and dark mode */\n",
       "  --sklearn-color-text: black;\n",
       "  --sklearn-color-line: gray;\n",
       "  /* Definition of color scheme for unfitted estimators */\n",
       "  --sklearn-color-unfitted-level-0: #fff5e6;\n",
       "  --sklearn-color-unfitted-level-1: #f6e4d2;\n",
       "  --sklearn-color-unfitted-level-2: #ffe0b3;\n",
       "  --sklearn-color-unfitted-level-3: chocolate;\n",
       "  /* Definition of color scheme for fitted estimators */\n",
       "  --sklearn-color-fitted-level-0: #f0f8ff;\n",
       "  --sklearn-color-fitted-level-1: #d4ebff;\n",
       "  --sklearn-color-fitted-level-2: #b3dbfd;\n",
       "  --sklearn-color-fitted-level-3: cornflowerblue;\n",
       "\n",
       "  /* Specific color for light theme */\n",
       "  --sklearn-color-text-on-default-background: var(--sg-text-color, var(--theme-code-foreground, var(--jp-content-font-color1, black)));\n",
       "  --sklearn-color-background: var(--sg-background-color, var(--theme-background, var(--jp-layout-color0, white)));\n",
       "  --sklearn-color-border-box: var(--sg-text-color, var(--theme-code-foreground, var(--jp-content-font-color1, black)));\n",
       "  --sklearn-color-icon: #696969;\n",
       "\n",
       "  @media (prefers-color-scheme: dark) {\n",
       "    /* Redefinition of color scheme for dark theme */\n",
       "    --sklearn-color-text-on-default-background: var(--sg-text-color, var(--theme-code-foreground, var(--jp-content-font-color1, white)));\n",
       "    --sklearn-color-background: var(--sg-background-color, var(--theme-background, var(--jp-layout-color0, #111)));\n",
       "    --sklearn-color-border-box: var(--sg-text-color, var(--theme-code-foreground, var(--jp-content-font-color1, white)));\n",
       "    --sklearn-color-icon: #878787;\n",
       "  }\n",
       "}\n",
       "\n",
       "#sk-container-id-2 {\n",
       "  color: var(--sklearn-color-text);\n",
       "}\n",
       "\n",
       "#sk-container-id-2 pre {\n",
       "  padding: 0;\n",
       "}\n",
       "\n",
       "#sk-container-id-2 input.sk-hidden--visually {\n",
       "  border: 0;\n",
       "  clip: rect(1px 1px 1px 1px);\n",
       "  clip: rect(1px, 1px, 1px, 1px);\n",
       "  height: 1px;\n",
       "  margin: -1px;\n",
       "  overflow: hidden;\n",
       "  padding: 0;\n",
       "  position: absolute;\n",
       "  width: 1px;\n",
       "}\n",
       "\n",
       "#sk-container-id-2 div.sk-dashed-wrapped {\n",
       "  border: 1px dashed var(--sklearn-color-line);\n",
       "  margin: 0 0.4em 0.5em 0.4em;\n",
       "  box-sizing: border-box;\n",
       "  padding-bottom: 0.4em;\n",
       "  background-color: var(--sklearn-color-background);\n",
       "}\n",
       "\n",
       "#sk-container-id-2 div.sk-container {\n",
       "  /* jupyter's `normalize.less` sets `[hidden] { display: none; }`\n",
       "     but bootstrap.min.css set `[hidden] { display: none !important; }`\n",
       "     so we also need the `!important` here to be able to override the\n",
       "     default hidden behavior on the sphinx rendered scikit-learn.org.\n",
       "     See: https://github.com/scikit-learn/scikit-learn/issues/21755 */\n",
       "  display: inline-block !important;\n",
       "  position: relative;\n",
       "}\n",
       "\n",
       "#sk-container-id-2 div.sk-text-repr-fallback {\n",
       "  display: none;\n",
       "}\n",
       "\n",
       "div.sk-parallel-item,\n",
       "div.sk-serial,\n",
       "div.sk-item {\n",
       "  /* draw centered vertical line to link estimators */\n",
       "  background-image: linear-gradient(var(--sklearn-color-text-on-default-background), var(--sklearn-color-text-on-default-background));\n",
       "  background-size: 2px 100%;\n",
       "  background-repeat: no-repeat;\n",
       "  background-position: center center;\n",
       "}\n",
       "\n",
       "/* Parallel-specific style estimator block */\n",
       "\n",
       "#sk-container-id-2 div.sk-parallel-item::after {\n",
       "  content: \"\";\n",
       "  width: 100%;\n",
       "  border-bottom: 2px solid var(--sklearn-color-text-on-default-background);\n",
       "  flex-grow: 1;\n",
       "}\n",
       "\n",
       "#sk-container-id-2 div.sk-parallel {\n",
       "  display: flex;\n",
       "  align-items: stretch;\n",
       "  justify-content: center;\n",
       "  background-color: var(--sklearn-color-background);\n",
       "  position: relative;\n",
       "}\n",
       "\n",
       "#sk-container-id-2 div.sk-parallel-item {\n",
       "  display: flex;\n",
       "  flex-direction: column;\n",
       "}\n",
       "\n",
       "#sk-container-id-2 div.sk-parallel-item:first-child::after {\n",
       "  align-self: flex-end;\n",
       "  width: 50%;\n",
       "}\n",
       "\n",
       "#sk-container-id-2 div.sk-parallel-item:last-child::after {\n",
       "  align-self: flex-start;\n",
       "  width: 50%;\n",
       "}\n",
       "\n",
       "#sk-container-id-2 div.sk-parallel-item:only-child::after {\n",
       "  width: 0;\n",
       "}\n",
       "\n",
       "/* Serial-specific style estimator block */\n",
       "\n",
       "#sk-container-id-2 div.sk-serial {\n",
       "  display: flex;\n",
       "  flex-direction: column;\n",
       "  align-items: center;\n",
       "  background-color: var(--sklearn-color-background);\n",
       "  padding-right: 1em;\n",
       "  padding-left: 1em;\n",
       "}\n",
       "\n",
       "\n",
       "/* Toggleable style: style used for estimator/Pipeline/ColumnTransformer box that is\n",
       "clickable and can be expanded/collapsed.\n",
       "- Pipeline and ColumnTransformer use this feature and define the default style\n",
       "- Estimators will overwrite some part of the style using the `sk-estimator` class\n",
       "*/\n",
       "\n",
       "/* Pipeline and ColumnTransformer style (default) */\n",
       "\n",
       "#sk-container-id-2 div.sk-toggleable {\n",
       "  /* Default theme specific background. It is overwritten whether we have a\n",
       "  specific estimator or a Pipeline/ColumnTransformer */\n",
       "  background-color: var(--sklearn-color-background);\n",
       "}\n",
       "\n",
       "/* Toggleable label */\n",
       "#sk-container-id-2 label.sk-toggleable__label {\n",
       "  cursor: pointer;\n",
       "  display: block;\n",
       "  width: 100%;\n",
       "  margin-bottom: 0;\n",
       "  padding: 0.5em;\n",
       "  box-sizing: border-box;\n",
       "  text-align: center;\n",
       "}\n",
       "\n",
       "#sk-container-id-2 label.sk-toggleable__label-arrow:before {\n",
       "  /* Arrow on the left of the label */\n",
       "  content: \"▸\";\n",
       "  float: left;\n",
       "  margin-right: 0.25em;\n",
       "  color: var(--sklearn-color-icon);\n",
       "}\n",
       "\n",
       "#sk-container-id-2 label.sk-toggleable__label-arrow:hover:before {\n",
       "  color: var(--sklearn-color-text);\n",
       "}\n",
       "\n",
       "/* Toggleable content - dropdown */\n",
       "\n",
       "#sk-container-id-2 div.sk-toggleable__content {\n",
       "  max-height: 0;\n",
       "  max-width: 0;\n",
       "  overflow: hidden;\n",
       "  text-align: left;\n",
       "  /* unfitted */\n",
       "  background-color: var(--sklearn-color-unfitted-level-0);\n",
       "}\n",
       "\n",
       "#sk-container-id-2 div.sk-toggleable__content.fitted {\n",
       "  /* fitted */\n",
       "  background-color: var(--sklearn-color-fitted-level-0);\n",
       "}\n",
       "\n",
       "#sk-container-id-2 div.sk-toggleable__content pre {\n",
       "  margin: 0.2em;\n",
       "  border-radius: 0.25em;\n",
       "  color: var(--sklearn-color-text);\n",
       "  /* unfitted */\n",
       "  background-color: var(--sklearn-color-unfitted-level-0);\n",
       "}\n",
       "\n",
       "#sk-container-id-2 div.sk-toggleable__content.fitted pre {\n",
       "  /* unfitted */\n",
       "  background-color: var(--sklearn-color-fitted-level-0);\n",
       "}\n",
       "\n",
       "#sk-container-id-2 input.sk-toggleable__control:checked~div.sk-toggleable__content {\n",
       "  /* Expand drop-down */\n",
       "  max-height: 200px;\n",
       "  max-width: 100%;\n",
       "  overflow: auto;\n",
       "}\n",
       "\n",
       "#sk-container-id-2 input.sk-toggleable__control:checked~label.sk-toggleable__label-arrow:before {\n",
       "  content: \"▾\";\n",
       "}\n",
       "\n",
       "/* Pipeline/ColumnTransformer-specific style */\n",
       "\n",
       "#sk-container-id-2 div.sk-label input.sk-toggleable__control:checked~label.sk-toggleable__label {\n",
       "  color: var(--sklearn-color-text);\n",
       "  background-color: var(--sklearn-color-unfitted-level-2);\n",
       "}\n",
       "\n",
       "#sk-container-id-2 div.sk-label.fitted input.sk-toggleable__control:checked~label.sk-toggleable__label {\n",
       "  background-color: var(--sklearn-color-fitted-level-2);\n",
       "}\n",
       "\n",
       "/* Estimator-specific style */\n",
       "\n",
       "/* Colorize estimator box */\n",
       "#sk-container-id-2 div.sk-estimator input.sk-toggleable__control:checked~label.sk-toggleable__label {\n",
       "  /* unfitted */\n",
       "  background-color: var(--sklearn-color-unfitted-level-2);\n",
       "}\n",
       "\n",
       "#sk-container-id-2 div.sk-estimator.fitted input.sk-toggleable__control:checked~label.sk-toggleable__label {\n",
       "  /* fitted */\n",
       "  background-color: var(--sklearn-color-fitted-level-2);\n",
       "}\n",
       "\n",
       "#sk-container-id-2 div.sk-label label.sk-toggleable__label,\n",
       "#sk-container-id-2 div.sk-label label {\n",
       "  /* The background is the default theme color */\n",
       "  color: var(--sklearn-color-text-on-default-background);\n",
       "}\n",
       "\n",
       "/* On hover, darken the color of the background */\n",
       "#sk-container-id-2 div.sk-label:hover label.sk-toggleable__label {\n",
       "  color: var(--sklearn-color-text);\n",
       "  background-color: var(--sklearn-color-unfitted-level-2);\n",
       "}\n",
       "\n",
       "/* Label box, darken color on hover, fitted */\n",
       "#sk-container-id-2 div.sk-label.fitted:hover label.sk-toggleable__label.fitted {\n",
       "  color: var(--sklearn-color-text);\n",
       "  background-color: var(--sklearn-color-fitted-level-2);\n",
       "}\n",
       "\n",
       "/* Estimator label */\n",
       "\n",
       "#sk-container-id-2 div.sk-label label {\n",
       "  font-family: monospace;\n",
       "  font-weight: bold;\n",
       "  display: inline-block;\n",
       "  line-height: 1.2em;\n",
       "}\n",
       "\n",
       "#sk-container-id-2 div.sk-label-container {\n",
       "  text-align: center;\n",
       "}\n",
       "\n",
       "/* Estimator-specific */\n",
       "#sk-container-id-2 div.sk-estimator {\n",
       "  font-family: monospace;\n",
       "  border: 1px dotted var(--sklearn-color-border-box);\n",
       "  border-radius: 0.25em;\n",
       "  box-sizing: border-box;\n",
       "  margin-bottom: 0.5em;\n",
       "  /* unfitted */\n",
       "  background-color: var(--sklearn-color-unfitted-level-0);\n",
       "}\n",
       "\n",
       "#sk-container-id-2 div.sk-estimator.fitted {\n",
       "  /* fitted */\n",
       "  background-color: var(--sklearn-color-fitted-level-0);\n",
       "}\n",
       "\n",
       "/* on hover */\n",
       "#sk-container-id-2 div.sk-estimator:hover {\n",
       "  /* unfitted */\n",
       "  background-color: var(--sklearn-color-unfitted-level-2);\n",
       "}\n",
       "\n",
       "#sk-container-id-2 div.sk-estimator.fitted:hover {\n",
       "  /* fitted */\n",
       "  background-color: var(--sklearn-color-fitted-level-2);\n",
       "}\n",
       "\n",
       "/* Specification for estimator info (e.g. \"i\" and \"?\") */\n",
       "\n",
       "/* Common style for \"i\" and \"?\" */\n",
       "\n",
       ".sk-estimator-doc-link,\n",
       "a:link.sk-estimator-doc-link,\n",
       "a:visited.sk-estimator-doc-link {\n",
       "  float: right;\n",
       "  font-size: smaller;\n",
       "  line-height: 1em;\n",
       "  font-family: monospace;\n",
       "  background-color: var(--sklearn-color-background);\n",
       "  border-radius: 1em;\n",
       "  height: 1em;\n",
       "  width: 1em;\n",
       "  text-decoration: none !important;\n",
       "  margin-left: 1ex;\n",
       "  /* unfitted */\n",
       "  border: var(--sklearn-color-unfitted-level-1) 1pt solid;\n",
       "  color: var(--sklearn-color-unfitted-level-1);\n",
       "}\n",
       "\n",
       ".sk-estimator-doc-link.fitted,\n",
       "a:link.sk-estimator-doc-link.fitted,\n",
       "a:visited.sk-estimator-doc-link.fitted {\n",
       "  /* fitted */\n",
       "  border: var(--sklearn-color-fitted-level-1) 1pt solid;\n",
       "  color: var(--sklearn-color-fitted-level-1);\n",
       "}\n",
       "\n",
       "/* On hover */\n",
       "div.sk-estimator:hover .sk-estimator-doc-link:hover,\n",
       ".sk-estimator-doc-link:hover,\n",
       "div.sk-label-container:hover .sk-estimator-doc-link:hover,\n",
       ".sk-estimator-doc-link:hover {\n",
       "  /* unfitted */\n",
       "  background-color: var(--sklearn-color-unfitted-level-3);\n",
       "  color: var(--sklearn-color-background);\n",
       "  text-decoration: none;\n",
       "}\n",
       "\n",
       "div.sk-estimator.fitted:hover .sk-estimator-doc-link.fitted:hover,\n",
       ".sk-estimator-doc-link.fitted:hover,\n",
       "div.sk-label-container:hover .sk-estimator-doc-link.fitted:hover,\n",
       ".sk-estimator-doc-link.fitted:hover {\n",
       "  /* fitted */\n",
       "  background-color: var(--sklearn-color-fitted-level-3);\n",
       "  color: var(--sklearn-color-background);\n",
       "  text-decoration: none;\n",
       "}\n",
       "\n",
       "/* Span, style for the box shown on hovering the info icon */\n",
       ".sk-estimator-doc-link span {\n",
       "  display: none;\n",
       "  z-index: 9999;\n",
       "  position: relative;\n",
       "  font-weight: normal;\n",
       "  right: .2ex;\n",
       "  padding: .5ex;\n",
       "  margin: .5ex;\n",
       "  width: min-content;\n",
       "  min-width: 20ex;\n",
       "  max-width: 50ex;\n",
       "  color: var(--sklearn-color-text);\n",
       "  box-shadow: 2pt 2pt 4pt #999;\n",
       "  /* unfitted */\n",
       "  background: var(--sklearn-color-unfitted-level-0);\n",
       "  border: .5pt solid var(--sklearn-color-unfitted-level-3);\n",
       "}\n",
       "\n",
       ".sk-estimator-doc-link.fitted span {\n",
       "  /* fitted */\n",
       "  background: var(--sklearn-color-fitted-level-0);\n",
       "  border: var(--sklearn-color-fitted-level-3);\n",
       "}\n",
       "\n",
       ".sk-estimator-doc-link:hover span {\n",
       "  display: block;\n",
       "}\n",
       "\n",
       "/* \"?\"-specific style due to the `<a>` HTML tag */\n",
       "\n",
       "#sk-container-id-2 a.estimator_doc_link {\n",
       "  float: right;\n",
       "  font-size: 1rem;\n",
       "  line-height: 1em;\n",
       "  font-family: monospace;\n",
       "  background-color: var(--sklearn-color-background);\n",
       "  border-radius: 1rem;\n",
       "  height: 1rem;\n",
       "  width: 1rem;\n",
       "  text-decoration: none;\n",
       "  /* unfitted */\n",
       "  color: var(--sklearn-color-unfitted-level-1);\n",
       "  border: var(--sklearn-color-unfitted-level-1) 1pt solid;\n",
       "}\n",
       "\n",
       "#sk-container-id-2 a.estimator_doc_link.fitted {\n",
       "  /* fitted */\n",
       "  border: var(--sklearn-color-fitted-level-1) 1pt solid;\n",
       "  color: var(--sklearn-color-fitted-level-1);\n",
       "}\n",
       "\n",
       "/* On hover */\n",
       "#sk-container-id-2 a.estimator_doc_link:hover {\n",
       "  /* unfitted */\n",
       "  background-color: var(--sklearn-color-unfitted-level-3);\n",
       "  color: var(--sklearn-color-background);\n",
       "  text-decoration: none;\n",
       "}\n",
       "\n",
       "#sk-container-id-2 a.estimator_doc_link.fitted:hover {\n",
       "  /* fitted */\n",
       "  background-color: var(--sklearn-color-fitted-level-3);\n",
       "}\n",
       "</style><div id=\"sk-container-id-2\" class=\"sk-top-container\"><div class=\"sk-text-repr-fallback\"><pre>RandomForestRegressor(max_depth=6, n_estimators=200)</pre><b>In a Jupyter environment, please rerun this cell to show the HTML representation or trust the notebook. <br />On GitHub, the HTML representation is unable to render, please try loading this page with nbviewer.org.</b></div><div class=\"sk-container\" hidden><div class=\"sk-item\"><div class=\"sk-estimator fitted sk-toggleable\"><input class=\"sk-toggleable__control sk-hidden--visually\" id=\"sk-estimator-id-4\" type=\"checkbox\" checked><label for=\"sk-estimator-id-4\" class=\"sk-toggleable__label fitted sk-toggleable__label-arrow fitted\">&nbsp;&nbsp;RandomForestRegressor<a class=\"sk-estimator-doc-link fitted\" rel=\"noreferrer\" target=\"_blank\" href=\"https://scikit-learn.org/1.4/modules/generated/sklearn.ensemble.RandomForestRegressor.html\">?<span>Documentation for RandomForestRegressor</span></a><span class=\"sk-estimator-doc-link fitted\">i<span>Fitted</span></span></label><div class=\"sk-toggleable__content fitted\"><pre>RandomForestRegressor(max_depth=6, n_estimators=200)</pre></div> </div></div></div></div>"
      ],
      "text/plain": [
       "RandomForestRegressor(max_depth=6, n_estimators=200)"
      ]
     },
     "execution_count": 68,
     "metadata": {},
     "output_type": "execute_result"
    }
   ],
   "source": [
    "best_rfr = rscv.best_estimator_\n",
    "best_rfr"
   ]
  },
  {
   "cell_type": "code",
   "execution_count": 69,
   "id": "ba70acea-70f7-4c8e-9fa6-0dd1432ca74e",
   "metadata": {},
   "outputs": [
    {
     "data": {
      "text/plain": [
       "0.7767532553591154"
      ]
     },
     "execution_count": 69,
     "metadata": {},
     "output_type": "execute_result"
    }
   ],
   "source": [
    "best_rfr.score(xtrain,ytrain)"
   ]
  },
  {
   "cell_type": "code",
   "execution_count": 70,
   "id": "66edf16a-92af-48bc-abf0-0a6012878f95",
   "metadata": {},
   "outputs": [
    {
     "data": {
      "text/plain": [
       "0.756671275789774"
      ]
     },
     "execution_count": 70,
     "metadata": {},
     "output_type": "execute_result"
    }
   ],
   "source": [
    "best_rfr.score(xtest,ytest)"
   ]
  },
  {
   "cell_type": "markdown",
   "id": "30acae06-ab62-49b7-ac92-a5b851e675e8",
   "metadata": {},
   "source": [
    "Random Forest model gives score results around 76%."
   ]
  },
  {
   "cell_type": "markdown",
   "id": "45471f5b-93ac-479a-9aba-0e57dfa20d6c",
   "metadata": {},
   "source": [
    "**10. Model Prediction**"
   ]
  },
  {
   "cell_type": "code",
   "execution_count": 71,
   "id": "bb982a1c-3707-4e64-bd4e-a7b388922105",
   "metadata": {},
   "outputs": [
    {
     "data": {
      "text/plain": [
       "array([5.88116516, 8.01942221, 4.94958347, 2.51585482, 5.79415593,\n",
       "       5.79415593, 5.79415593, 5.47324411, 5.79415593, 5.81901527])"
      ]
     },
     "execution_count": 71,
     "metadata": {},
     "output_type": "execute_result"
    }
   ],
   "source": [
    "ypred_test = best_rfr.predict(xtest)\n",
    "ypred_test[:10]"
   ]
  },
  {
   "cell_type": "code",
   "execution_count": 72,
   "id": "6e8bd255-e17e-48ef-8f65-046ce6b926cb",
   "metadata": {},
   "outputs": [
    {
     "data": {
      "text/html": [
       "<div>\n",
       "<style scoped>\n",
       "    .dataframe tbody tr th:only-of-type {\n",
       "        vertical-align: middle;\n",
       "    }\n",
       "\n",
       "    .dataframe tbody tr th {\n",
       "        vertical-align: top;\n",
       "    }\n",
       "\n",
       "    .dataframe thead th {\n",
       "        text-align: right;\n",
       "    }\n",
       "</style>\n",
       "<table border=\"1\" class=\"dataframe\">\n",
       "  <thead>\n",
       "    <tr style=\"text-align: right;\">\n",
       "      <th></th>\n",
       "      <th>Rating</th>\n",
       "    </tr>\n",
       "  </thead>\n",
       "  <tbody>\n",
       "    <tr>\n",
       "      <th>3077</th>\n",
       "      <td>5.8</td>\n",
       "    </tr>\n",
       "    <tr>\n",
       "      <th>10882</th>\n",
       "      <td>8.1</td>\n",
       "    </tr>\n",
       "    <tr>\n",
       "      <th>5424</th>\n",
       "      <td>5.6</td>\n",
       "    </tr>\n",
       "    <tr>\n",
       "      <th>4170</th>\n",
       "      <td>1.9</td>\n",
       "    </tr>\n",
       "    <tr>\n",
       "      <th>5928</th>\n",
       "      <td>5.8</td>\n",
       "    </tr>\n",
       "    <tr>\n",
       "      <th>579</th>\n",
       "      <td>5.8</td>\n",
       "    </tr>\n",
       "    <tr>\n",
       "      <th>2406</th>\n",
       "      <td>5.8</td>\n",
       "    </tr>\n",
       "    <tr>\n",
       "      <th>12686</th>\n",
       "      <td>6.8</td>\n",
       "    </tr>\n",
       "    <tr>\n",
       "      <th>2026</th>\n",
       "      <td>5.8</td>\n",
       "    </tr>\n",
       "    <tr>\n",
       "      <th>6573</th>\n",
       "      <td>6.0</td>\n",
       "    </tr>\n",
       "  </tbody>\n",
       "</table>\n",
       "</div>"
      ],
      "text/plain": [
       "       Rating\n",
       "3077      5.8\n",
       "10882     8.1\n",
       "5424      5.6\n",
       "4170      1.9\n",
       "5928      5.8\n",
       "579       5.8\n",
       "2406      5.8\n",
       "12686     6.8\n",
       "2026      5.8\n",
       "6573      6.0"
      ]
     },
     "execution_count": 72,
     "metadata": {},
     "output_type": "execute_result"
    }
   ],
   "source": [
    "ytest.head(10)"
   ]
  },
  {
   "cell_type": "code",
   "execution_count": 73,
   "id": "78b77e57-5bf2-4708-9e71-00a8034ca7b6",
   "metadata": {},
   "outputs": [
    {
     "data": {
      "text/html": [
       "<div>\n",
       "<style scoped>\n",
       "    .dataframe tbody tr th:only-of-type {\n",
       "        vertical-align: middle;\n",
       "    }\n",
       "\n",
       "    .dataframe tbody tr th {\n",
       "        vertical-align: top;\n",
       "    }\n",
       "\n",
       "    .dataframe thead th {\n",
       "        text-align: right;\n",
       "    }\n",
       "</style>\n",
       "<table border=\"1\" class=\"dataframe\">\n",
       "  <thead>\n",
       "    <tr style=\"text-align: right;\">\n",
       "      <th></th>\n",
       "      <th>Year</th>\n",
       "      <th>Genre encoded</th>\n",
       "      <th>Votes encoded</th>\n",
       "      <th>Director encoded</th>\n",
       "      <th>Actor 1 encoded</th>\n",
       "      <th>Actor 2 encoded</th>\n",
       "      <th>Actor 3 encoded</th>\n",
       "      <th>Predicted_Rating</th>\n",
       "    </tr>\n",
       "  </thead>\n",
       "  <tbody>\n",
       "    <tr>\n",
       "      <th>3077</th>\n",
       "      <td>1954</td>\n",
       "      <td>6.0</td>\n",
       "      <td>5.8</td>\n",
       "      <td>6.0</td>\n",
       "      <td>5.8</td>\n",
       "      <td>6.6</td>\n",
       "      <td>5.8</td>\n",
       "      <td>5.881165</td>\n",
       "    </tr>\n",
       "    <tr>\n",
       "      <th>10882</th>\n",
       "      <td>2014</td>\n",
       "      <td>6.2</td>\n",
       "      <td>8.1</td>\n",
       "      <td>8.1</td>\n",
       "      <td>6.9</td>\n",
       "      <td>6.4</td>\n",
       "      <td>5.1</td>\n",
       "      <td>8.019422</td>\n",
       "    </tr>\n",
       "    <tr>\n",
       "      <th>5424</th>\n",
       "      <td>2000</td>\n",
       "      <td>5.3</td>\n",
       "      <td>5.6</td>\n",
       "      <td>5.0</td>\n",
       "      <td>5.6</td>\n",
       "      <td>5.8</td>\n",
       "      <td>5.1</td>\n",
       "      <td>4.949583</td>\n",
       "    </tr>\n",
       "    <tr>\n",
       "      <th>4170</th>\n",
       "      <td>2013</td>\n",
       "      <td>5.4</td>\n",
       "      <td>5.4</td>\n",
       "      <td>3.9</td>\n",
       "      <td>1.9</td>\n",
       "      <td>3.5</td>\n",
       "      <td>1.9</td>\n",
       "      <td>2.515855</td>\n",
       "    </tr>\n",
       "    <tr>\n",
       "      <th>5928</th>\n",
       "      <td>2004</td>\n",
       "      <td>5.6</td>\n",
       "      <td>5.8</td>\n",
       "      <td>5.8</td>\n",
       "      <td>5.8</td>\n",
       "      <td>5.8</td>\n",
       "      <td>5.9</td>\n",
       "      <td>5.794156</td>\n",
       "    </tr>\n",
       "    <tr>\n",
       "      <th>...</th>\n",
       "      <td>...</td>\n",
       "      <td>...</td>\n",
       "      <td>...</td>\n",
       "      <td>...</td>\n",
       "      <td>...</td>\n",
       "      <td>...</td>\n",
       "      <td>...</td>\n",
       "      <td>...</td>\n",
       "    </tr>\n",
       "    <tr>\n",
       "      <th>6870</th>\n",
       "      <td>1988</td>\n",
       "      <td>5.6</td>\n",
       "      <td>5.4</td>\n",
       "      <td>5.0</td>\n",
       "      <td>4.7</td>\n",
       "      <td>5.1</td>\n",
       "      <td>3.3</td>\n",
       "      <td>3.549974</td>\n",
       "    </tr>\n",
       "    <tr>\n",
       "      <th>13353</th>\n",
       "      <td>1964</td>\n",
       "      <td>5.6</td>\n",
       "      <td>5.7</td>\n",
       "      <td>5.5</td>\n",
       "      <td>5.5</td>\n",
       "      <td>5.6</td>\n",
       "      <td>4.8</td>\n",
       "      <td>5.253604</td>\n",
       "    </tr>\n",
       "    <tr>\n",
       "      <th>2870</th>\n",
       "      <td>1980</td>\n",
       "      <td>6.0</td>\n",
       "      <td>6.1</td>\n",
       "      <td>8.1</td>\n",
       "      <td>5.6</td>\n",
       "      <td>6.5</td>\n",
       "      <td>5.7</td>\n",
       "      <td>7.765434</td>\n",
       "    </tr>\n",
       "    <tr>\n",
       "      <th>9524</th>\n",
       "      <td>1995</td>\n",
       "      <td>5.8</td>\n",
       "      <td>5.8</td>\n",
       "      <td>5.8</td>\n",
       "      <td>5.8</td>\n",
       "      <td>5.8</td>\n",
       "      <td>5.8</td>\n",
       "      <td>5.794156</td>\n",
       "    </tr>\n",
       "    <tr>\n",
       "      <th>12017</th>\n",
       "      <td>2012</td>\n",
       "      <td>5.4</td>\n",
       "      <td>5.7</td>\n",
       "      <td>4.4</td>\n",
       "      <td>5.5</td>\n",
       "      <td>5.4</td>\n",
       "      <td>5.6</td>\n",
       "      <td>4.854898</td>\n",
       "    </tr>\n",
       "  </tbody>\n",
       "</table>\n",
       "<p>3876 rows × 8 columns</p>\n",
       "</div>"
      ],
      "text/plain": [
       "       Year  Genre encoded  Votes encoded  Director encoded  Actor 1 encoded  \\\n",
       "3077   1954            6.0            5.8               6.0              5.8   \n",
       "10882  2014            6.2            8.1               8.1              6.9   \n",
       "5424   2000            5.3            5.6               5.0              5.6   \n",
       "4170   2013            5.4            5.4               3.9              1.9   \n",
       "5928   2004            5.6            5.8               5.8              5.8   \n",
       "...     ...            ...            ...               ...              ...   \n",
       "6870   1988            5.6            5.4               5.0              4.7   \n",
       "13353  1964            5.6            5.7               5.5              5.5   \n",
       "2870   1980            6.0            6.1               8.1              5.6   \n",
       "9524   1995            5.8            5.8               5.8              5.8   \n",
       "12017  2012            5.4            5.7               4.4              5.5   \n",
       "\n",
       "       Actor 2 encoded  Actor 3 encoded  Predicted_Rating  \n",
       "3077               6.6              5.8          5.881165  \n",
       "10882              6.4              5.1          8.019422  \n",
       "5424               5.8              5.1          4.949583  \n",
       "4170               3.5              1.9          2.515855  \n",
       "5928               5.8              5.9          5.794156  \n",
       "...                ...              ...               ...  \n",
       "6870               5.1              3.3          3.549974  \n",
       "13353              5.6              4.8          5.253604  \n",
       "2870               6.5              5.7          7.765434  \n",
       "9524               5.8              5.8          5.794156  \n",
       "12017              5.4              5.6          4.854898  \n",
       "\n",
       "[3876 rows x 8 columns]"
      ]
     },
     "execution_count": 73,
     "metadata": {},
     "output_type": "execute_result"
    }
   ],
   "source": [
    "df_final = xtest\n",
    "df_final['Predicted_Rating'] = ypred_test\n",
    "df_final"
   ]
  }
 ],
 "metadata": {
  "kernelspec": {
   "display_name": "Python 3 (ipykernel)",
   "language": "python",
   "name": "python3"
  },
  "language_info": {
   "codemirror_mode": {
    "name": "ipython",
    "version": 3
   },
   "file_extension": ".py",
   "mimetype": "text/x-python",
   "name": "python",
   "nbconvert_exporter": "python",
   "pygments_lexer": "ipython3",
   "version": "3.12.3"
  }
 },
 "nbformat": 4,
 "nbformat_minor": 5
}
